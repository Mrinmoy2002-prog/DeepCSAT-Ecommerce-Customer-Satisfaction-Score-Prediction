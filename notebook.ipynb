{
 "cells": [
  {
   "cell_type": "code",
   "execution_count": 1,
   "id": "239b0a83",
   "metadata": {},
   "outputs": [],
   "source": [
    "import pandas as pd\n",
    "import numpy as np"
   ]
  },
  {
   "cell_type": "code",
   "execution_count": 2,
   "id": "453bdefd",
   "metadata": {},
   "outputs": [
    {
     "data": {
      "text/html": [
       "<div>\n",
       "<style scoped>\n",
       "    .dataframe tbody tr th:only-of-type {\n",
       "        vertical-align: middle;\n",
       "    }\n",
       "\n",
       "    .dataframe tbody tr th {\n",
       "        vertical-align: top;\n",
       "    }\n",
       "\n",
       "    .dataframe thead th {\n",
       "        text-align: right;\n",
       "    }\n",
       "</style>\n",
       "<table border=\"1\" class=\"dataframe\">\n",
       "  <thead>\n",
       "    <tr style=\"text-align: right;\">\n",
       "      <th></th>\n",
       "      <th>Unique id</th>\n",
       "      <th>channel_name</th>\n",
       "      <th>category</th>\n",
       "      <th>Sub-category</th>\n",
       "      <th>Customer Remarks</th>\n",
       "      <th>Order_id</th>\n",
       "      <th>order_date_time</th>\n",
       "      <th>Issue_reported at</th>\n",
       "      <th>issue_responded</th>\n",
       "      <th>Survey_response_Date</th>\n",
       "      <th>Customer_City</th>\n",
       "      <th>Product_category</th>\n",
       "      <th>Item_price</th>\n",
       "      <th>connected_handling_time</th>\n",
       "      <th>Agent_name</th>\n",
       "      <th>Supervisor</th>\n",
       "      <th>Manager</th>\n",
       "      <th>Tenure Bucket</th>\n",
       "      <th>Agent Shift</th>\n",
       "      <th>CSAT Score</th>\n",
       "    </tr>\n",
       "  </thead>\n",
       "  <tbody>\n",
       "    <tr>\n",
       "      <th>0</th>\n",
       "      <td>7e9ae164-6a8b-4521-a2d4-58f7c9fff13f</td>\n",
       "      <td>Outcall</td>\n",
       "      <td>Product Queries</td>\n",
       "      <td>Life Insurance</td>\n",
       "      <td>NaN</td>\n",
       "      <td>c27c9bb4-fa36-4140-9f1f-21009254ffdb</td>\n",
       "      <td>NaN</td>\n",
       "      <td>01/08/2023 11:13</td>\n",
       "      <td>01/08/2023 11:47</td>\n",
       "      <td>01-Aug-23</td>\n",
       "      <td>NaN</td>\n",
       "      <td>NaN</td>\n",
       "      <td>NaN</td>\n",
       "      <td>NaN</td>\n",
       "      <td>Richard Buchanan</td>\n",
       "      <td>Mason Gupta</td>\n",
       "      <td>Jennifer Nguyen</td>\n",
       "      <td>On Job Training</td>\n",
       "      <td>Morning</td>\n",
       "      <td>5</td>\n",
       "    </tr>\n",
       "    <tr>\n",
       "      <th>1</th>\n",
       "      <td>b07ec1b0-f376-43b6-86df-ec03da3b2e16</td>\n",
       "      <td>Outcall</td>\n",
       "      <td>Product Queries</td>\n",
       "      <td>Product Specific Information</td>\n",
       "      <td>NaN</td>\n",
       "      <td>d406b0c7-ce17-4654-b9de-f08d421254bd</td>\n",
       "      <td>NaN</td>\n",
       "      <td>01/08/2023 12:52</td>\n",
       "      <td>01/08/2023 12:54</td>\n",
       "      <td>01-Aug-23</td>\n",
       "      <td>NaN</td>\n",
       "      <td>NaN</td>\n",
       "      <td>NaN</td>\n",
       "      <td>NaN</td>\n",
       "      <td>Vicki Collins</td>\n",
       "      <td>Dylan Kim</td>\n",
       "      <td>Michael Lee</td>\n",
       "      <td>&gt;90</td>\n",
       "      <td>Morning</td>\n",
       "      <td>5</td>\n",
       "    </tr>\n",
       "    <tr>\n",
       "      <th>2</th>\n",
       "      <td>200814dd-27c7-4149-ba2b-bd3af3092880</td>\n",
       "      <td>Inbound</td>\n",
       "      <td>Order Related</td>\n",
       "      <td>Installation/demo</td>\n",
       "      <td>NaN</td>\n",
       "      <td>c273368d-b961-44cb-beaf-62d6fd6c00d5</td>\n",
       "      <td>NaN</td>\n",
       "      <td>01/08/2023 20:16</td>\n",
       "      <td>01/08/2023 20:38</td>\n",
       "      <td>01-Aug-23</td>\n",
       "      <td>NaN</td>\n",
       "      <td>NaN</td>\n",
       "      <td>NaN</td>\n",
       "      <td>NaN</td>\n",
       "      <td>Duane Norman</td>\n",
       "      <td>Jackson Park</td>\n",
       "      <td>William Kim</td>\n",
       "      <td>On Job Training</td>\n",
       "      <td>Evening</td>\n",
       "      <td>5</td>\n",
       "    </tr>\n",
       "    <tr>\n",
       "      <th>3</th>\n",
       "      <td>eb0d3e53-c1ca-42d3-8486-e42c8d622135</td>\n",
       "      <td>Inbound</td>\n",
       "      <td>Returns</td>\n",
       "      <td>Reverse Pickup Enquiry</td>\n",
       "      <td>NaN</td>\n",
       "      <td>5aed0059-55a4-4ec6-bb54-97942092020a</td>\n",
       "      <td>NaN</td>\n",
       "      <td>01/08/2023 20:56</td>\n",
       "      <td>01/08/2023 21:16</td>\n",
       "      <td>01-Aug-23</td>\n",
       "      <td>NaN</td>\n",
       "      <td>NaN</td>\n",
       "      <td>NaN</td>\n",
       "      <td>NaN</td>\n",
       "      <td>Patrick Flores</td>\n",
       "      <td>Olivia Wang</td>\n",
       "      <td>John Smith</td>\n",
       "      <td>&gt;90</td>\n",
       "      <td>Evening</td>\n",
       "      <td>5</td>\n",
       "    </tr>\n",
       "    <tr>\n",
       "      <th>4</th>\n",
       "      <td>ba903143-1e54-406c-b969-46c52f92e5df</td>\n",
       "      <td>Inbound</td>\n",
       "      <td>Cancellation</td>\n",
       "      <td>Not Needed</td>\n",
       "      <td>NaN</td>\n",
       "      <td>e8bed5a9-6933-4aff-9dc6-ccefd7dcde59</td>\n",
       "      <td>NaN</td>\n",
       "      <td>01/08/2023 10:30</td>\n",
       "      <td>01/08/2023 10:32</td>\n",
       "      <td>01-Aug-23</td>\n",
       "      <td>NaN</td>\n",
       "      <td>NaN</td>\n",
       "      <td>NaN</td>\n",
       "      <td>NaN</td>\n",
       "      <td>Christopher Sanchez</td>\n",
       "      <td>Austin Johnson</td>\n",
       "      <td>Michael Lee</td>\n",
       "      <td>0-30</td>\n",
       "      <td>Morning</td>\n",
       "      <td>5</td>\n",
       "    </tr>\n",
       "  </tbody>\n",
       "</table>\n",
       "</div>"
      ],
      "text/plain": [
       "                              Unique id channel_name         category  \\\n",
       "0  7e9ae164-6a8b-4521-a2d4-58f7c9fff13f      Outcall  Product Queries   \n",
       "1  b07ec1b0-f376-43b6-86df-ec03da3b2e16      Outcall  Product Queries   \n",
       "2  200814dd-27c7-4149-ba2b-bd3af3092880      Inbound    Order Related   \n",
       "3  eb0d3e53-c1ca-42d3-8486-e42c8d622135      Inbound          Returns   \n",
       "4  ba903143-1e54-406c-b969-46c52f92e5df      Inbound     Cancellation   \n",
       "\n",
       "                   Sub-category Customer Remarks  \\\n",
       "0                Life Insurance              NaN   \n",
       "1  Product Specific Information              NaN   \n",
       "2             Installation/demo              NaN   \n",
       "3        Reverse Pickup Enquiry              NaN   \n",
       "4                    Not Needed              NaN   \n",
       "\n",
       "                               Order_id order_date_time Issue_reported at  \\\n",
       "0  c27c9bb4-fa36-4140-9f1f-21009254ffdb             NaN  01/08/2023 11:13   \n",
       "1  d406b0c7-ce17-4654-b9de-f08d421254bd             NaN  01/08/2023 12:52   \n",
       "2  c273368d-b961-44cb-beaf-62d6fd6c00d5             NaN  01/08/2023 20:16   \n",
       "3  5aed0059-55a4-4ec6-bb54-97942092020a             NaN  01/08/2023 20:56   \n",
       "4  e8bed5a9-6933-4aff-9dc6-ccefd7dcde59             NaN  01/08/2023 10:30   \n",
       "\n",
       "    issue_responded Survey_response_Date Customer_City Product_category  \\\n",
       "0  01/08/2023 11:47            01-Aug-23           NaN              NaN   \n",
       "1  01/08/2023 12:54            01-Aug-23           NaN              NaN   \n",
       "2  01/08/2023 20:38            01-Aug-23           NaN              NaN   \n",
       "3  01/08/2023 21:16            01-Aug-23           NaN              NaN   \n",
       "4  01/08/2023 10:32            01-Aug-23           NaN              NaN   \n",
       "\n",
       "   Item_price  connected_handling_time           Agent_name      Supervisor  \\\n",
       "0         NaN                      NaN     Richard Buchanan     Mason Gupta   \n",
       "1         NaN                      NaN        Vicki Collins       Dylan Kim   \n",
       "2         NaN                      NaN         Duane Norman    Jackson Park   \n",
       "3         NaN                      NaN       Patrick Flores     Olivia Wang   \n",
       "4         NaN                      NaN  Christopher Sanchez  Austin Johnson   \n",
       "\n",
       "           Manager    Tenure Bucket Agent Shift  CSAT Score  \n",
       "0  Jennifer Nguyen  On Job Training     Morning           5  \n",
       "1      Michael Lee              >90     Morning           5  \n",
       "2      William Kim  On Job Training     Evening           5  \n",
       "3       John Smith              >90     Evening           5  \n",
       "4      Michael Lee             0-30     Morning           5  "
      ]
     },
     "execution_count": 2,
     "metadata": {},
     "output_type": "execute_result"
    }
   ],
   "source": [
    "df = pd.read_csv(\"eCommerce_Customer_support_data.csv\")\n",
    "df.head(5)"
   ]
  },
  {
   "cell_type": "code",
   "execution_count": 3,
   "id": "ac797f4f",
   "metadata": {},
   "outputs": [
    {
     "data": {
      "text/html": [
       "<div>\n",
       "<style scoped>\n",
       "    .dataframe tbody tr th:only-of-type {\n",
       "        vertical-align: middle;\n",
       "    }\n",
       "\n",
       "    .dataframe tbody tr th {\n",
       "        vertical-align: top;\n",
       "    }\n",
       "\n",
       "    .dataframe thead th {\n",
       "        text-align: right;\n",
       "    }\n",
       "</style>\n",
       "<table border=\"1\" class=\"dataframe\">\n",
       "  <thead>\n",
       "    <tr style=\"text-align: right;\">\n",
       "      <th></th>\n",
       "      <th>Item_price</th>\n",
       "      <th>connected_handling_time</th>\n",
       "      <th>CSAT Score</th>\n",
       "    </tr>\n",
       "  </thead>\n",
       "  <tbody>\n",
       "    <tr>\n",
       "      <th>count</th>\n",
       "      <td>17206.000000</td>\n",
       "      <td>242.000000</td>\n",
       "      <td>85907.000000</td>\n",
       "    </tr>\n",
       "    <tr>\n",
       "      <th>mean</th>\n",
       "      <td>5660.774846</td>\n",
       "      <td>462.400826</td>\n",
       "      <td>4.242157</td>\n",
       "    </tr>\n",
       "    <tr>\n",
       "      <th>std</th>\n",
       "      <td>12825.728411</td>\n",
       "      <td>246.295037</td>\n",
       "      <td>1.378903</td>\n",
       "    </tr>\n",
       "    <tr>\n",
       "      <th>min</th>\n",
       "      <td>0.000000</td>\n",
       "      <td>0.000000</td>\n",
       "      <td>1.000000</td>\n",
       "    </tr>\n",
       "    <tr>\n",
       "      <th>25%</th>\n",
       "      <td>392.000000</td>\n",
       "      <td>293.000000</td>\n",
       "      <td>4.000000</td>\n",
       "    </tr>\n",
       "    <tr>\n",
       "      <th>50%</th>\n",
       "      <td>979.000000</td>\n",
       "      <td>427.000000</td>\n",
       "      <td>5.000000</td>\n",
       "    </tr>\n",
       "    <tr>\n",
       "      <th>75%</th>\n",
       "      <td>2699.750000</td>\n",
       "      <td>592.250000</td>\n",
       "      <td>5.000000</td>\n",
       "    </tr>\n",
       "    <tr>\n",
       "      <th>max</th>\n",
       "      <td>164999.000000</td>\n",
       "      <td>1986.000000</td>\n",
       "      <td>5.000000</td>\n",
       "    </tr>\n",
       "  </tbody>\n",
       "</table>\n",
       "</div>"
      ],
      "text/plain": [
       "          Item_price  connected_handling_time    CSAT Score\n",
       "count   17206.000000               242.000000  85907.000000\n",
       "mean     5660.774846               462.400826      4.242157\n",
       "std     12825.728411               246.295037      1.378903\n",
       "min         0.000000                 0.000000      1.000000\n",
       "25%       392.000000               293.000000      4.000000\n",
       "50%       979.000000               427.000000      5.000000\n",
       "75%      2699.750000               592.250000      5.000000\n",
       "max    164999.000000              1986.000000      5.000000"
      ]
     },
     "execution_count": 3,
     "metadata": {},
     "output_type": "execute_result"
    }
   ],
   "source": [
    "df.describe()"
   ]
  },
  {
   "cell_type": "code",
   "execution_count": 4,
   "id": "79addf4e",
   "metadata": {},
   "outputs": [
    {
     "name": "stdout",
     "output_type": "stream",
     "text": [
      "<class 'pandas.core.frame.DataFrame'>\n",
      "RangeIndex: 85907 entries, 0 to 85906\n",
      "Data columns (total 20 columns):\n",
      " #   Column                   Non-Null Count  Dtype  \n",
      "---  ------                   --------------  -----  \n",
      " 0   Unique id                85907 non-null  object \n",
      " 1   channel_name             85907 non-null  object \n",
      " 2   category                 85907 non-null  object \n",
      " 3   Sub-category             85907 non-null  object \n",
      " 4   Customer Remarks         28742 non-null  object \n",
      " 5   Order_id                 67675 non-null  object \n",
      " 6   order_date_time          17214 non-null  object \n",
      " 7   Issue_reported at        85907 non-null  object \n",
      " 8   issue_responded          85907 non-null  object \n",
      " 9   Survey_response_Date     85907 non-null  object \n",
      " 10  Customer_City            17079 non-null  object \n",
      " 11  Product_category         17196 non-null  object \n",
      " 12  Item_price               17206 non-null  float64\n",
      " 13  connected_handling_time  242 non-null    float64\n",
      " 14  Agent_name               85907 non-null  object \n",
      " 15  Supervisor               85907 non-null  object \n",
      " 16  Manager                  85907 non-null  object \n",
      " 17  Tenure Bucket            85907 non-null  object \n",
      " 18  Agent Shift              85907 non-null  object \n",
      " 19  CSAT Score               85907 non-null  int64  \n",
      "dtypes: float64(2), int64(1), object(17)\n",
      "memory usage: 13.1+ MB\n"
     ]
    }
   ],
   "source": [
    "df.info()"
   ]
  },
  {
   "cell_type": "code",
   "execution_count": 5,
   "id": "05b801f1",
   "metadata": {},
   "outputs": [
    {
     "data": {
      "text/plain": [
       "Unique id                      0\n",
       "channel_name                   0\n",
       "category                       0\n",
       "Sub-category                   0\n",
       "Customer Remarks           57165\n",
       "Order_id                   18232\n",
       "order_date_time            68693\n",
       "Issue_reported at              0\n",
       "issue_responded                0\n",
       "Survey_response_Date           0\n",
       "Customer_City              68828\n",
       "Product_category           68711\n",
       "Item_price                 68701\n",
       "connected_handling_time    85665\n",
       "Agent_name                     0\n",
       "Supervisor                     0\n",
       "Manager                        0\n",
       "Tenure Bucket                  0\n",
       "Agent Shift                    0\n",
       "CSAT Score                     0\n",
       "dtype: int64"
      ]
     },
     "execution_count": 5,
     "metadata": {},
     "output_type": "execute_result"
    }
   ],
   "source": [
    "df.isnull().sum()"
   ]
  },
  {
   "cell_type": "markdown",
   "id": "d62d881e",
   "metadata": {},
   "source": [
    "So I am thinking of dropping the columns like \"Unique_id\" ,\"Customer_remarks\" and \"Order_id\". And for the categorical columns like \"Customer_City\" and \"Product_category\". And for the numerical columns like \"connected_handling_time\" and \"Item_price\" use median and replace the null values with median. Also since ther are other date-time columns present so drop \"order_date_time\" as it contain many null values"
   ]
  },
  {
   "cell_type": "code",
   "execution_count": 6,
   "id": "93059dfa",
   "metadata": {},
   "outputs": [],
   "source": [
    "df.drop(columns =['order_date_time','Customer Remarks','Order_id','Unique id'], inplace=True)"
   ]
  },
  {
   "cell_type": "code",
   "execution_count": 7,
   "id": "207d63d2",
   "metadata": {},
   "outputs": [
    {
     "data": {
      "text/html": [
       "<div>\n",
       "<style scoped>\n",
       "    .dataframe tbody tr th:only-of-type {\n",
       "        vertical-align: middle;\n",
       "    }\n",
       "\n",
       "    .dataframe tbody tr th {\n",
       "        vertical-align: top;\n",
       "    }\n",
       "\n",
       "    .dataframe thead th {\n",
       "        text-align: right;\n",
       "    }\n",
       "</style>\n",
       "<table border=\"1\" class=\"dataframe\">\n",
       "  <thead>\n",
       "    <tr style=\"text-align: right;\">\n",
       "      <th></th>\n",
       "      <th>channel_name</th>\n",
       "      <th>category</th>\n",
       "      <th>Sub-category</th>\n",
       "      <th>Issue_reported at</th>\n",
       "      <th>issue_responded</th>\n",
       "      <th>Survey_response_Date</th>\n",
       "      <th>Customer_City</th>\n",
       "      <th>Product_category</th>\n",
       "      <th>Item_price</th>\n",
       "      <th>connected_handling_time</th>\n",
       "      <th>Agent_name</th>\n",
       "      <th>Supervisor</th>\n",
       "      <th>Manager</th>\n",
       "      <th>Tenure Bucket</th>\n",
       "      <th>Agent Shift</th>\n",
       "      <th>CSAT Score</th>\n",
       "    </tr>\n",
       "  </thead>\n",
       "  <tbody>\n",
       "    <tr>\n",
       "      <th>0</th>\n",
       "      <td>Outcall</td>\n",
       "      <td>Product Queries</td>\n",
       "      <td>Life Insurance</td>\n",
       "      <td>01/08/2023 11:13</td>\n",
       "      <td>01/08/2023 11:47</td>\n",
       "      <td>01-Aug-23</td>\n",
       "      <td>NaN</td>\n",
       "      <td>NaN</td>\n",
       "      <td>NaN</td>\n",
       "      <td>NaN</td>\n",
       "      <td>Richard Buchanan</td>\n",
       "      <td>Mason Gupta</td>\n",
       "      <td>Jennifer Nguyen</td>\n",
       "      <td>On Job Training</td>\n",
       "      <td>Morning</td>\n",
       "      <td>5</td>\n",
       "    </tr>\n",
       "    <tr>\n",
       "      <th>1</th>\n",
       "      <td>Outcall</td>\n",
       "      <td>Product Queries</td>\n",
       "      <td>Product Specific Information</td>\n",
       "      <td>01/08/2023 12:52</td>\n",
       "      <td>01/08/2023 12:54</td>\n",
       "      <td>01-Aug-23</td>\n",
       "      <td>NaN</td>\n",
       "      <td>NaN</td>\n",
       "      <td>NaN</td>\n",
       "      <td>NaN</td>\n",
       "      <td>Vicki Collins</td>\n",
       "      <td>Dylan Kim</td>\n",
       "      <td>Michael Lee</td>\n",
       "      <td>&gt;90</td>\n",
       "      <td>Morning</td>\n",
       "      <td>5</td>\n",
       "    </tr>\n",
       "    <tr>\n",
       "      <th>2</th>\n",
       "      <td>Inbound</td>\n",
       "      <td>Order Related</td>\n",
       "      <td>Installation/demo</td>\n",
       "      <td>01/08/2023 20:16</td>\n",
       "      <td>01/08/2023 20:38</td>\n",
       "      <td>01-Aug-23</td>\n",
       "      <td>NaN</td>\n",
       "      <td>NaN</td>\n",
       "      <td>NaN</td>\n",
       "      <td>NaN</td>\n",
       "      <td>Duane Norman</td>\n",
       "      <td>Jackson Park</td>\n",
       "      <td>William Kim</td>\n",
       "      <td>On Job Training</td>\n",
       "      <td>Evening</td>\n",
       "      <td>5</td>\n",
       "    </tr>\n",
       "    <tr>\n",
       "      <th>3</th>\n",
       "      <td>Inbound</td>\n",
       "      <td>Returns</td>\n",
       "      <td>Reverse Pickup Enquiry</td>\n",
       "      <td>01/08/2023 20:56</td>\n",
       "      <td>01/08/2023 21:16</td>\n",
       "      <td>01-Aug-23</td>\n",
       "      <td>NaN</td>\n",
       "      <td>NaN</td>\n",
       "      <td>NaN</td>\n",
       "      <td>NaN</td>\n",
       "      <td>Patrick Flores</td>\n",
       "      <td>Olivia Wang</td>\n",
       "      <td>John Smith</td>\n",
       "      <td>&gt;90</td>\n",
       "      <td>Evening</td>\n",
       "      <td>5</td>\n",
       "    </tr>\n",
       "    <tr>\n",
       "      <th>4</th>\n",
       "      <td>Inbound</td>\n",
       "      <td>Cancellation</td>\n",
       "      <td>Not Needed</td>\n",
       "      <td>01/08/2023 10:30</td>\n",
       "      <td>01/08/2023 10:32</td>\n",
       "      <td>01-Aug-23</td>\n",
       "      <td>NaN</td>\n",
       "      <td>NaN</td>\n",
       "      <td>NaN</td>\n",
       "      <td>NaN</td>\n",
       "      <td>Christopher Sanchez</td>\n",
       "      <td>Austin Johnson</td>\n",
       "      <td>Michael Lee</td>\n",
       "      <td>0-30</td>\n",
       "      <td>Morning</td>\n",
       "      <td>5</td>\n",
       "    </tr>\n",
       "  </tbody>\n",
       "</table>\n",
       "</div>"
      ],
      "text/plain": [
       "  channel_name         category                  Sub-category  \\\n",
       "0      Outcall  Product Queries                Life Insurance   \n",
       "1      Outcall  Product Queries  Product Specific Information   \n",
       "2      Inbound    Order Related             Installation/demo   \n",
       "3      Inbound          Returns        Reverse Pickup Enquiry   \n",
       "4      Inbound     Cancellation                    Not Needed   \n",
       "\n",
       "  Issue_reported at   issue_responded Survey_response_Date Customer_City  \\\n",
       "0  01/08/2023 11:13  01/08/2023 11:47            01-Aug-23           NaN   \n",
       "1  01/08/2023 12:52  01/08/2023 12:54            01-Aug-23           NaN   \n",
       "2  01/08/2023 20:16  01/08/2023 20:38            01-Aug-23           NaN   \n",
       "3  01/08/2023 20:56  01/08/2023 21:16            01-Aug-23           NaN   \n",
       "4  01/08/2023 10:30  01/08/2023 10:32            01-Aug-23           NaN   \n",
       "\n",
       "  Product_category  Item_price  connected_handling_time           Agent_name  \\\n",
       "0              NaN         NaN                      NaN     Richard Buchanan   \n",
       "1              NaN         NaN                      NaN        Vicki Collins   \n",
       "2              NaN         NaN                      NaN         Duane Norman   \n",
       "3              NaN         NaN                      NaN       Patrick Flores   \n",
       "4              NaN         NaN                      NaN  Christopher Sanchez   \n",
       "\n",
       "       Supervisor          Manager    Tenure Bucket Agent Shift  CSAT Score  \n",
       "0     Mason Gupta  Jennifer Nguyen  On Job Training     Morning           5  \n",
       "1       Dylan Kim      Michael Lee              >90     Morning           5  \n",
       "2    Jackson Park      William Kim  On Job Training     Evening           5  \n",
       "3     Olivia Wang       John Smith              >90     Evening           5  \n",
       "4  Austin Johnson      Michael Lee             0-30     Morning           5  "
      ]
     },
     "execution_count": 7,
     "metadata": {},
     "output_type": "execute_result"
    }
   ],
   "source": [
    "df.head(5)"
   ]
  },
  {
   "cell_type": "code",
   "execution_count": 8,
   "id": "56da7292",
   "metadata": {},
   "outputs": [
    {
     "name": "stderr",
     "output_type": "stream",
     "text": [
      "C:\\Users\\mrinm\\AppData\\Local\\Temp\\ipykernel_10328\\517184562.py:2: FutureWarning: A value is trying to be set on a copy of a DataFrame or Series through chained assignment using an inplace method.\n",
      "The behavior will change in pandas 3.0. This inplace method will never work because the intermediate object on which we are setting values always behaves as a copy.\n",
      "\n",
      "For example, when doing 'df[col].method(value, inplace=True)', try using 'df.method({col: value}, inplace=True)' or df[col] = df[col].method(value) instead, to perform the operation inplace on the original object.\n",
      "\n",
      "\n",
      "  df['Customer_City'].fillna('Unknown',inplace=True)\n",
      "C:\\Users\\mrinm\\AppData\\Local\\Temp\\ipykernel_10328\\517184562.py:3: FutureWarning: A value is trying to be set on a copy of a DataFrame or Series through chained assignment using an inplace method.\n",
      "The behavior will change in pandas 3.0. This inplace method will never work because the intermediate object on which we are setting values always behaves as a copy.\n",
      "\n",
      "For example, when doing 'df[col].method(value, inplace=True)', try using 'df.method({col: value}, inplace=True)' or df[col] = df[col].method(value) instead, to perform the operation inplace on the original object.\n",
      "\n",
      "\n",
      "  df['Product_category'].fillna('Unknown',inplace=True)\n"
     ]
    }
   ],
   "source": [
    "# Now for categorical columns\n",
    "df['Customer_City'].fillna('Unknown',inplace=True)\n",
    "df['Product_category'].fillna('Unknown',inplace=True)"
   ]
  },
  {
   "cell_type": "code",
   "execution_count": 9,
   "id": "899dcbcd",
   "metadata": {},
   "outputs": [
    {
     "name": "stderr",
     "output_type": "stream",
     "text": [
      "C:\\Users\\mrinm\\AppData\\Local\\Temp\\ipykernel_10328\\2894576592.py:2: FutureWarning: A value is trying to be set on a copy of a DataFrame or Series through chained assignment using an inplace method.\n",
      "The behavior will change in pandas 3.0. This inplace method will never work because the intermediate object on which we are setting values always behaves as a copy.\n",
      "\n",
      "For example, when doing 'df[col].method(value, inplace=True)', try using 'df.method({col: value}, inplace=True)' or df[col] = df[col].method(value) instead, to perform the operation inplace on the original object.\n",
      "\n",
      "\n",
      "  df['Item_price'].fillna(df['Item_price'].median(),inplace=True)\n",
      "C:\\Users\\mrinm\\AppData\\Local\\Temp\\ipykernel_10328\\2894576592.py:3: FutureWarning: A value is trying to be set on a copy of a DataFrame or Series through chained assignment using an inplace method.\n",
      "The behavior will change in pandas 3.0. This inplace method will never work because the intermediate object on which we are setting values always behaves as a copy.\n",
      "\n",
      "For example, when doing 'df[col].method(value, inplace=True)', try using 'df.method({col: value}, inplace=True)' or df[col] = df[col].method(value) instead, to perform the operation inplace on the original object.\n",
      "\n",
      "\n",
      "  df['connected_handling_time'].fillna(df['connected_handling_time'].median(),inplace=True)\n"
     ]
    }
   ],
   "source": [
    "# Now for the numerical columns\n",
    "df['Item_price'].fillna(df['Item_price'].median(),inplace=True)\n",
    "df['connected_handling_time'].fillna(df['connected_handling_time'].median(),inplace=True)"
   ]
  },
  {
   "cell_type": "code",
   "execution_count": 10,
   "id": "9b91dc85",
   "metadata": {},
   "outputs": [
    {
     "data": {
      "text/plain": [
       "channel_name               0\n",
       "category                   0\n",
       "Sub-category               0\n",
       "Issue_reported at          0\n",
       "issue_responded            0\n",
       "Survey_response_Date       0\n",
       "Customer_City              0\n",
       "Product_category           0\n",
       "Item_price                 0\n",
       "connected_handling_time    0\n",
       "Agent_name                 0\n",
       "Supervisor                 0\n",
       "Manager                    0\n",
       "Tenure Bucket              0\n",
       "Agent Shift                0\n",
       "CSAT Score                 0\n",
       "dtype: int64"
      ]
     },
     "execution_count": 10,
     "metadata": {},
     "output_type": "execute_result"
    }
   ],
   "source": [
    "df.isnull().sum()"
   ]
  },
  {
   "cell_type": "markdown",
   "id": "28d39cbf",
   "metadata": {},
   "source": [
    "Now from the above you can see the null values have been removed"
   ]
  },
  {
   "cell_type": "code",
   "execution_count": 11,
   "id": "8733a354",
   "metadata": {},
   "outputs": [
    {
     "data": {
      "text/plain": [
       "Index(['channel_name', 'category', 'Sub-category', 'Issue_reported at',\n",
       "       'issue_responded', 'Survey_response_Date', 'Customer_City',\n",
       "       'Product_category', 'Item_price', 'connected_handling_time',\n",
       "       'Agent_name', 'Supervisor', 'Manager', 'Tenure Bucket', 'Agent Shift',\n",
       "       'CSAT Score'],\n",
       "      dtype='object')"
      ]
     },
     "execution_count": 11,
     "metadata": {},
     "output_type": "execute_result"
    }
   ],
   "source": [
    "df.columns"
   ]
  },
  {
   "cell_type": "code",
   "execution_count": 12,
   "id": "b8d64d68",
   "metadata": {},
   "outputs": [
    {
     "data": {
      "text/plain": [
       "0        01-Aug-23\n",
       "1        01-Aug-23\n",
       "2        01-Aug-23\n",
       "3        01-Aug-23\n",
       "4        01-Aug-23\n",
       "           ...    \n",
       "85902    31-Aug-23\n",
       "85903    31-Aug-23\n",
       "85904    31-Aug-23\n",
       "85905    31-Aug-23\n",
       "85906    31-Aug-23\n",
       "Name: Survey_response_Date, Length: 85907, dtype: object"
      ]
     },
     "execution_count": 12,
     "metadata": {},
     "output_type": "execute_result"
    }
   ],
   "source": [
    "df['Survey_response_Date']"
   ]
  },
  {
   "cell_type": "code",
   "execution_count": 13,
   "id": "47b687d2",
   "metadata": {},
   "outputs": [
    {
     "data": {
      "text/plain": [
       "0        01/08/2023 11:13\n",
       "1        01/08/2023 12:52\n",
       "2        01/08/2023 20:16\n",
       "3        01/08/2023 20:56\n",
       "4        01/08/2023 10:30\n",
       "               ...       \n",
       "85902    30/08/2023 23:20\n",
       "85903    31/08/2023 08:15\n",
       "85904    31/08/2023 18:57\n",
       "85905    31/08/2023 19:59\n",
       "85906    31/08/2023 23:36\n",
       "Name: Issue_reported at, Length: 85907, dtype: object"
      ]
     },
     "execution_count": 13,
     "metadata": {},
     "output_type": "execute_result"
    }
   ],
   "source": [
    "df['Issue_reported at']"
   ]
  },
  {
   "cell_type": "code",
   "execution_count": 14,
   "id": "cac1d6bf",
   "metadata": {},
   "outputs": [
    {
     "data": {
      "text/plain": [
       "0        01/08/2023 11:47\n",
       "1        01/08/2023 12:54\n",
       "2        01/08/2023 20:38\n",
       "3        01/08/2023 21:16\n",
       "4        01/08/2023 10:32\n",
       "               ...       \n",
       "85902    31/08/2023 07:22\n",
       "85903    31/08/2023 08:17\n",
       "85904    31/08/2023 19:02\n",
       "85905    31/08/2023 20:00\n",
       "85906    31/08/2023 23:37\n",
       "Name: issue_responded, Length: 85907, dtype: object"
      ]
     },
     "execution_count": 14,
     "metadata": {},
     "output_type": "execute_result"
    }
   ],
   "source": [
    "df['issue_responded']"
   ]
  },
  {
   "cell_type": "code",
   "execution_count": 15,
   "id": "1ccec577",
   "metadata": {},
   "outputs": [],
   "source": [
    "# Convert the column \"Survey_response_Date\" to datetime object\n",
    "df['Survey_response_Date'] = pd.to_datetime(df['Survey_response_Date'], format=\"%d-%b-%y\")\n",
    "\n",
    "# Convert the column \"issue_responded\" to datetime object\n",
    "df['issue_responded'] = pd.to_datetime(df['issue_responded'], format='%d/%m/%Y %H:%M')\n",
    "\n",
    "# Convert the column \"Issue_reported at\" to datetime object\n",
    "df['Issue_reported at'] = pd.to_datetime(df['Issue_reported at'], format='%d/%m/%Y %H:%M')"
   ]
  },
  {
   "cell_type": "code",
   "execution_count": 16,
   "id": "5427c4bc",
   "metadata": {},
   "outputs": [
    {
     "data": {
      "text/plain": [
       "0       2023-08-01\n",
       "1       2023-08-01\n",
       "2       2023-08-01\n",
       "3       2023-08-01\n",
       "4       2023-08-01\n",
       "           ...    \n",
       "85902   2023-08-31\n",
       "85903   2023-08-31\n",
       "85904   2023-08-31\n",
       "85905   2023-08-31\n",
       "85906   2023-08-31\n",
       "Name: Survey_response_Date, Length: 85907, dtype: datetime64[ns]"
      ]
     },
     "execution_count": 16,
     "metadata": {},
     "output_type": "execute_result"
    }
   ],
   "source": [
    "df['Survey_response_Date'] "
   ]
  },
  {
   "cell_type": "code",
   "execution_count": 17,
   "id": "c541d6ec",
   "metadata": {},
   "outputs": [
    {
     "data": {
      "text/plain": [
       "0       2023-08-01 11:47:00\n",
       "1       2023-08-01 12:54:00\n",
       "2       2023-08-01 20:38:00\n",
       "3       2023-08-01 21:16:00\n",
       "4       2023-08-01 10:32:00\n",
       "                ...        \n",
       "85902   2023-08-31 07:22:00\n",
       "85903   2023-08-31 08:17:00\n",
       "85904   2023-08-31 19:02:00\n",
       "85905   2023-08-31 20:00:00\n",
       "85906   2023-08-31 23:37:00\n",
       "Name: issue_responded, Length: 85907, dtype: datetime64[ns]"
      ]
     },
     "execution_count": 17,
     "metadata": {},
     "output_type": "execute_result"
    }
   ],
   "source": [
    "df['issue_responded']"
   ]
  },
  {
   "cell_type": "code",
   "execution_count": 18,
   "id": "4c76137c",
   "metadata": {},
   "outputs": [
    {
     "data": {
      "text/plain": [
       "0       2023-08-01 11:13:00\n",
       "1       2023-08-01 12:52:00\n",
       "2       2023-08-01 20:16:00\n",
       "3       2023-08-01 20:56:00\n",
       "4       2023-08-01 10:30:00\n",
       "                ...        \n",
       "85902   2023-08-30 23:20:00\n",
       "85903   2023-08-31 08:15:00\n",
       "85904   2023-08-31 18:57:00\n",
       "85905   2023-08-31 19:59:00\n",
       "85906   2023-08-31 23:36:00\n",
       "Name: Issue_reported at, Length: 85907, dtype: datetime64[ns]"
      ]
     },
     "execution_count": 18,
     "metadata": {},
     "output_type": "execute_result"
    }
   ],
   "source": [
    "df['Issue_reported at']"
   ]
  },
  {
   "cell_type": "markdown",
   "id": "60d2ec3f",
   "metadata": {},
   "source": [
    "#### Feature Engineering\n"
   ]
  },
  {
   "cell_type": "code",
   "execution_count": 19,
   "id": "c3100770",
   "metadata": {},
   "outputs": [
    {
     "name": "stdout",
     "output_type": "stream",
     "text": [
      "    Response_Time  Response_Time_minutes\n",
      "0 0 days 00:34:00                   34.0\n",
      "1 0 days 00:02:00                    2.0\n",
      "2 0 days 00:22:00                   22.0\n",
      "3 0 days 00:20:00                   20.0\n",
      "4 0 days 00:02:00                    2.0\n"
     ]
    }
   ],
   "source": [
    "# Calculating the Response Time using the columns \"issue_responded\" and \"Issue_reported at\"\n",
    "\n",
    "df['Response_Time'] = df['issue_responded'] - df['Issue_reported at']\n",
    "\n",
    "df['Response_Time_minutes'] = df['Response_Time'].dt.total_seconds()/60\n",
    "\n",
    "print(df[['Response_Time', 'Response_Time_minutes']].head())"
   ]
  },
  {
   "cell_type": "code",
   "execution_count": 20,
   "id": "9fe68601",
   "metadata": {},
   "outputs": [
    {
     "name": "stdout",
     "output_type": "stream",
     "text": [
      "    Issue_reported at  Issue_DayOfWeek  Issue_Hour\n",
      "0 2023-08-01 11:13:00                1          11\n",
      "1 2023-08-01 12:52:00                1          12\n",
      "2 2023-08-01 20:16:00                1          20\n",
      "3 2023-08-01 20:56:00                1          20\n",
      "4 2023-08-01 10:30:00                1          10\n"
     ]
    }
   ],
   "source": [
    "df['Issue_DayOfWeek'] = df['Issue_reported at'].dt.day_of_week\n",
    "\n",
    "df['Issue_Hour'] = df['Issue_reported at'].dt.hour\n",
    "\n",
    "print(df[['Issue_reported at', 'Issue_DayOfWeek', 'Issue_Hour']].head())"
   ]
  },
  {
   "cell_type": "markdown",
   "id": "472be16d",
   "metadata": {},
   "source": [
    "#### Feature Encoding"
   ]
  },
  {
   "cell_type": "code",
   "execution_count": 21,
   "id": "6776c0ab",
   "metadata": {},
   "outputs": [],
   "source": [
    "# Applying label encoding to \"Tenure Bucket\" column \n",
    "from sklearn.preprocessing import LabelEncoder\n",
    "le = LabelEncoder()\n",
    "df['Tenure Bucket'] = le.fit_transform(df['Tenure Bucket']).astype(int)"
   ]
  },
  {
   "cell_type": "code",
   "execution_count": 22,
   "id": "7300221c",
   "metadata": {},
   "outputs": [
    {
     "data": {
      "text/plain": [
       "<bound method IndexOpsMixin.value_counts of 0        Outcall\n",
       "1        Outcall\n",
       "2        Inbound\n",
       "3        Inbound\n",
       "4        Inbound\n",
       "          ...   \n",
       "85902    Inbound\n",
       "85903    Inbound\n",
       "85904    Inbound\n",
       "85905    Inbound\n",
       "85906    Inbound\n",
       "Name: channel_name, Length: 85907, dtype: object>"
      ]
     },
     "execution_count": 22,
     "metadata": {},
     "output_type": "execute_result"
    }
   ],
   "source": [
    "df['channel_name'].value_counts"
   ]
  },
  {
   "cell_type": "code",
   "execution_count": 23,
   "id": "bf5334cd",
   "metadata": {},
   "outputs": [
    {
     "name": "stdout",
     "output_type": "stream",
     "text": [
      "Original DataFrame shape: (85907, 20)\n",
      "New encoded DataFrame shape: (85907, 1878)\n",
      "\n",
      "Columns of the new DataFrame:\n",
      "Index(['Issue_reported at', 'issue_responded', 'Survey_response_Date',\n",
      "       'Item_price', 'connected_handling_time', 'Agent_name', 'Supervisor',\n",
      "       'Manager', 'Tenure Bucket', 'CSAT Score',\n",
      "       ...\n",
      "       'Customer_City_ZUARINAGAR',\n",
      "       'Product_category_Books & General merchandise',\n",
      "       'Product_category_Electronics', 'Product_category_Furniture',\n",
      "       'Product_category_GiftCard', 'Product_category_Home',\n",
      "       'Product_category_Home Appliences', 'Product_category_LifeStyle',\n",
      "       'Product_category_Mobile', 'Product_category_Unknown'],\n",
      "      dtype='object', length=1878)\n"
     ]
    }
   ],
   "source": [
    "# Applying one hot encoding to other categorical column s\n",
    "\n",
    "cols_to_encode = ['channel_name', 'category', 'Sub-category', 'Agent Shift', 'Customer_City', 'Product_category']\n",
    "\n",
    "df_encoded = pd.get_dummies(df,columns = cols_to_encode,drop_first=True,dtype=int)\n",
    "\n",
    "print(\"Original DataFrame shape:\", df.shape)\n",
    "print(\"New encoded DataFrame shape:\", df_encoded.shape)\n",
    "print(\"\\nColumns of the new DataFrame:\")\n",
    "print(df_encoded.columns)"
   ]
  },
  {
   "cell_type": "code",
   "execution_count": 24,
   "id": "50b36464",
   "metadata": {},
   "outputs": [],
   "source": [
    "columns_to_drop = [\n",
    "    'Issue_reported at', \n",
    "    'issue_responded', \n",
    "    'Survey_response_Date',\n",
    "    'Agent_name', \n",
    "    'Supervisor', \n",
    "    'Manager', \n",
    "    'Response_Time'   # ...and keep the engineered versions\n",
    "]\n",
    "\n",
    "df_encoded.drop(columns=columns_to_drop, inplace=True, errors='ignore')"
   ]
  },
  {
   "cell_type": "markdown",
   "id": "5eef011f",
   "metadata": {},
   "source": [
    "#### Feature Scaling"
   ]
  },
  {
   "cell_type": "code",
   "execution_count": 25,
   "id": "6c7531d4",
   "metadata": {},
   "outputs": [],
   "source": [
    "from sklearn.preprocessing import StandardScaler\n",
    "scaler = StandardScaler()\n",
    "\n",
    "y = df_encoded['CSAT Score']-1\n",
    "x = df_encoded.drop(columns = ['CSAT Score'],axis=1)"
   ]
  },
  {
   "cell_type": "code",
   "execution_count": 26,
   "id": "1ff49159",
   "metadata": {},
   "outputs": [
    {
     "data": {
      "text/plain": [
       "Index(['Item_price', 'connected_handling_time', 'Tenure Bucket',\n",
       "       'Response_Time_minutes', 'Issue_DayOfWeek', 'Issue_Hour',\n",
       "       'channel_name_Inbound', 'channel_name_Outcall', 'category_Cancellation',\n",
       "       'category_Feedback',\n",
       "       ...\n",
       "       'Customer_City_ZUARINAGAR',\n",
       "       'Product_category_Books & General merchandise',\n",
       "       'Product_category_Electronics', 'Product_category_Furniture',\n",
       "       'Product_category_GiftCard', 'Product_category_Home',\n",
       "       'Product_category_Home Appliences', 'Product_category_LifeStyle',\n",
       "       'Product_category_Mobile', 'Product_category_Unknown'],\n",
       "      dtype='object', length=1870)"
      ]
     },
     "execution_count": 26,
     "metadata": {},
     "output_type": "execute_result"
    }
   ],
   "source": [
    "x.columns\n"
   ]
  },
  {
   "cell_type": "code",
   "execution_count": 27,
   "id": "07858c59",
   "metadata": {},
   "outputs": [
    {
     "data": {
      "text/plain": [
       "0        4\n",
       "1        4\n",
       "2        4\n",
       "3        4\n",
       "4        4\n",
       "        ..\n",
       "85902    3\n",
       "85903    4\n",
       "85904    4\n",
       "85905    3\n",
       "85906    4\n",
       "Name: CSAT Score, Length: 85907, dtype: int64"
      ]
     },
     "execution_count": 27,
     "metadata": {},
     "output_type": "execute_result"
    }
   ],
   "source": [
    "y"
   ]
  },
  {
   "cell_type": "code",
   "execution_count": 28,
   "id": "83dfcc98",
   "metadata": {},
   "outputs": [],
   "source": [
    "# Now applying Feature Scaling\n",
    "\n",
    "numerical_cols = ['Item_price', 'connected_handling_time', 'Response_Time_minutes', 'Issue_DayOfWeek', 'Issue_Hour', 'Tenure Bucket']\n",
    "\n",
    "x[numerical_cols] = scaler.fit_transform(x[numerical_cols])\n"
   ]
  },
  {
   "cell_type": "code",
   "execution_count": 29,
   "id": "baa45652",
   "metadata": {},
   "outputs": [
    {
     "data": {
      "text/html": [
       "<div>\n",
       "<style scoped>\n",
       "    .dataframe tbody tr th:only-of-type {\n",
       "        vertical-align: middle;\n",
       "    }\n",
       "\n",
       "    .dataframe tbody tr th {\n",
       "        vertical-align: top;\n",
       "    }\n",
       "\n",
       "    .dataframe thead th {\n",
       "        text-align: right;\n",
       "    }\n",
       "</style>\n",
       "<table border=\"1\" class=\"dataframe\">\n",
       "  <thead>\n",
       "    <tr style=\"text-align: right;\">\n",
       "      <th></th>\n",
       "      <th>Item_price</th>\n",
       "      <th>connected_handling_time</th>\n",
       "      <th>Tenure Bucket</th>\n",
       "      <th>Response_Time_minutes</th>\n",
       "      <th>Issue_DayOfWeek</th>\n",
       "      <th>Issue_Hour</th>\n",
       "      <th>channel_name_Inbound</th>\n",
       "      <th>channel_name_Outcall</th>\n",
       "      <th>category_Cancellation</th>\n",
       "      <th>category_Feedback</th>\n",
       "      <th>...</th>\n",
       "      <th>Customer_City_ZUARINAGAR</th>\n",
       "      <th>Product_category_Books &amp; General merchandise</th>\n",
       "      <th>Product_category_Electronics</th>\n",
       "      <th>Product_category_Furniture</th>\n",
       "      <th>Product_category_GiftCard</th>\n",
       "      <th>Product_category_Home</th>\n",
       "      <th>Product_category_Home Appliences</th>\n",
       "      <th>Product_category_LifeStyle</th>\n",
       "      <th>Product_category_Mobile</th>\n",
       "      <th>Product_category_Unknown</th>\n",
       "    </tr>\n",
       "  </thead>\n",
       "  <tbody>\n",
       "    <tr>\n",
       "      <th>0</th>\n",
       "      <td>-0.155302</td>\n",
       "      <td>-0.007567</td>\n",
       "      <td>1.049636</td>\n",
       "      <td>-0.173641</td>\n",
       "      <td>-0.941016</td>\n",
       "      <td>-0.716276</td>\n",
       "      <td>0</td>\n",
       "      <td>1</td>\n",
       "      <td>0</td>\n",
       "      <td>0</td>\n",
       "      <td>...</td>\n",
       "      <td>0</td>\n",
       "      <td>0</td>\n",
       "      <td>0</td>\n",
       "      <td>0</td>\n",
       "      <td>0</td>\n",
       "      <td>0</td>\n",
       "      <td>0</td>\n",
       "      <td>0</td>\n",
       "      <td>0</td>\n",
       "      <td>1</td>\n",
       "    </tr>\n",
       "    <tr>\n",
       "      <th>1</th>\n",
       "      <td>-0.155302</td>\n",
       "      <td>-0.007567</td>\n",
       "      <td>0.324841</td>\n",
       "      <td>-0.227647</td>\n",
       "      <td>-0.941016</td>\n",
       "      <td>-0.516377</td>\n",
       "      <td>0</td>\n",
       "      <td>1</td>\n",
       "      <td>0</td>\n",
       "      <td>0</td>\n",
       "      <td>...</td>\n",
       "      <td>0</td>\n",
       "      <td>0</td>\n",
       "      <td>0</td>\n",
       "      <td>0</td>\n",
       "      <td>0</td>\n",
       "      <td>0</td>\n",
       "      <td>0</td>\n",
       "      <td>0</td>\n",
       "      <td>0</td>\n",
       "      <td>1</td>\n",
       "    </tr>\n",
       "    <tr>\n",
       "      <th>2</th>\n",
       "      <td>-0.155302</td>\n",
       "      <td>-0.007567</td>\n",
       "      <td>1.049636</td>\n",
       "      <td>-0.193893</td>\n",
       "      <td>-0.941016</td>\n",
       "      <td>1.082822</td>\n",
       "      <td>1</td>\n",
       "      <td>0</td>\n",
       "      <td>0</td>\n",
       "      <td>0</td>\n",
       "      <td>...</td>\n",
       "      <td>0</td>\n",
       "      <td>0</td>\n",
       "      <td>0</td>\n",
       "      <td>0</td>\n",
       "      <td>0</td>\n",
       "      <td>0</td>\n",
       "      <td>0</td>\n",
       "      <td>0</td>\n",
       "      <td>0</td>\n",
       "      <td>1</td>\n",
       "    </tr>\n",
       "    <tr>\n",
       "      <th>3</th>\n",
       "      <td>-0.155302</td>\n",
       "      <td>-0.007567</td>\n",
       "      <td>0.324841</td>\n",
       "      <td>-0.197269</td>\n",
       "      <td>-0.941016</td>\n",
       "      <td>1.082822</td>\n",
       "      <td>1</td>\n",
       "      <td>0</td>\n",
       "      <td>0</td>\n",
       "      <td>0</td>\n",
       "      <td>...</td>\n",
       "      <td>0</td>\n",
       "      <td>0</td>\n",
       "      <td>0</td>\n",
       "      <td>0</td>\n",
       "      <td>0</td>\n",
       "      <td>0</td>\n",
       "      <td>0</td>\n",
       "      <td>0</td>\n",
       "      <td>0</td>\n",
       "      <td>1</td>\n",
       "    </tr>\n",
       "    <tr>\n",
       "      <th>4</th>\n",
       "      <td>-0.155302</td>\n",
       "      <td>-0.007567</td>\n",
       "      <td>-1.849546</td>\n",
       "      <td>-0.227647</td>\n",
       "      <td>-0.941016</td>\n",
       "      <td>-0.916176</td>\n",
       "      <td>1</td>\n",
       "      <td>0</td>\n",
       "      <td>1</td>\n",
       "      <td>0</td>\n",
       "      <td>...</td>\n",
       "      <td>0</td>\n",
       "      <td>0</td>\n",
       "      <td>0</td>\n",
       "      <td>0</td>\n",
       "      <td>0</td>\n",
       "      <td>0</td>\n",
       "      <td>0</td>\n",
       "      <td>0</td>\n",
       "      <td>0</td>\n",
       "      <td>1</td>\n",
       "    </tr>\n",
       "    <tr>\n",
       "      <th>...</th>\n",
       "      <td>...</td>\n",
       "      <td>...</td>\n",
       "      <td>...</td>\n",
       "      <td>...</td>\n",
       "      <td>...</td>\n",
       "      <td>...</td>\n",
       "      <td>...</td>\n",
       "      <td>...</td>\n",
       "      <td>...</td>\n",
       "      <td>...</td>\n",
       "      <td>...</td>\n",
       "      <td>...</td>\n",
       "      <td>...</td>\n",
       "      <td>...</td>\n",
       "      <td>...</td>\n",
       "      <td>...</td>\n",
       "      <td>...</td>\n",
       "      <td>...</td>\n",
       "      <td>...</td>\n",
       "      <td>...</td>\n",
       "      <td>...</td>\n",
       "    </tr>\n",
       "    <tr>\n",
       "      <th>85902</th>\n",
       "      <td>-0.155302</td>\n",
       "      <td>-0.007567</td>\n",
       "      <td>1.049636</td>\n",
       "      <td>0.582445</td>\n",
       "      <td>-0.429721</td>\n",
       "      <td>1.682521</td>\n",
       "      <td>1</td>\n",
       "      <td>0</td>\n",
       "      <td>0</td>\n",
       "      <td>0</td>\n",
       "      <td>...</td>\n",
       "      <td>0</td>\n",
       "      <td>0</td>\n",
       "      <td>0</td>\n",
       "      <td>0</td>\n",
       "      <td>0</td>\n",
       "      <td>0</td>\n",
       "      <td>0</td>\n",
       "      <td>0</td>\n",
       "      <td>0</td>\n",
       "      <td>1</td>\n",
       "    </tr>\n",
       "    <tr>\n",
       "      <th>85903</th>\n",
       "      <td>-0.155302</td>\n",
       "      <td>-0.007567</td>\n",
       "      <td>0.324841</td>\n",
       "      <td>-0.227647</td>\n",
       "      <td>0.081574</td>\n",
       "      <td>-1.315976</td>\n",
       "      <td>1</td>\n",
       "      <td>0</td>\n",
       "      <td>0</td>\n",
       "      <td>0</td>\n",
       "      <td>...</td>\n",
       "      <td>0</td>\n",
       "      <td>0</td>\n",
       "      <td>0</td>\n",
       "      <td>0</td>\n",
       "      <td>0</td>\n",
       "      <td>0</td>\n",
       "      <td>0</td>\n",
       "      <td>0</td>\n",
       "      <td>0</td>\n",
       "      <td>1</td>\n",
       "    </tr>\n",
       "    <tr>\n",
       "      <th>85904</th>\n",
       "      <td>-0.155302</td>\n",
       "      <td>-0.007567</td>\n",
       "      <td>1.049636</td>\n",
       "      <td>-0.222584</td>\n",
       "      <td>0.081574</td>\n",
       "      <td>0.683022</td>\n",
       "      <td>1</td>\n",
       "      <td>0</td>\n",
       "      <td>0</td>\n",
       "      <td>0</td>\n",
       "      <td>...</td>\n",
       "      <td>0</td>\n",
       "      <td>0</td>\n",
       "      <td>0</td>\n",
       "      <td>0</td>\n",
       "      <td>0</td>\n",
       "      <td>0</td>\n",
       "      <td>0</td>\n",
       "      <td>0</td>\n",
       "      <td>0</td>\n",
       "      <td>1</td>\n",
       "    </tr>\n",
       "    <tr>\n",
       "      <th>85905</th>\n",
       "      <td>-0.155302</td>\n",
       "      <td>-0.007567</td>\n",
       "      <td>0.324841</td>\n",
       "      <td>-0.229335</td>\n",
       "      <td>0.081574</td>\n",
       "      <td>0.882922</td>\n",
       "      <td>1</td>\n",
       "      <td>0</td>\n",
       "      <td>0</td>\n",
       "      <td>1</td>\n",
       "      <td>...</td>\n",
       "      <td>0</td>\n",
       "      <td>0</td>\n",
       "      <td>0</td>\n",
       "      <td>0</td>\n",
       "      <td>0</td>\n",
       "      <td>0</td>\n",
       "      <td>0</td>\n",
       "      <td>0</td>\n",
       "      <td>0</td>\n",
       "      <td>1</td>\n",
       "    </tr>\n",
       "    <tr>\n",
       "      <th>85906</th>\n",
       "      <td>-0.155302</td>\n",
       "      <td>-0.007567</td>\n",
       "      <td>1.049636</td>\n",
       "      <td>-0.229335</td>\n",
       "      <td>0.081574</td>\n",
       "      <td>1.682521</td>\n",
       "      <td>1</td>\n",
       "      <td>0</td>\n",
       "      <td>0</td>\n",
       "      <td>0</td>\n",
       "      <td>...</td>\n",
       "      <td>0</td>\n",
       "      <td>0</td>\n",
       "      <td>0</td>\n",
       "      <td>0</td>\n",
       "      <td>0</td>\n",
       "      <td>0</td>\n",
       "      <td>0</td>\n",
       "      <td>0</td>\n",
       "      <td>0</td>\n",
       "      <td>1</td>\n",
       "    </tr>\n",
       "  </tbody>\n",
       "</table>\n",
       "<p>85907 rows × 1870 columns</p>\n",
       "</div>"
      ],
      "text/plain": [
       "       Item_price  connected_handling_time  Tenure Bucket  \\\n",
       "0       -0.155302                -0.007567       1.049636   \n",
       "1       -0.155302                -0.007567       0.324841   \n",
       "2       -0.155302                -0.007567       1.049636   \n",
       "3       -0.155302                -0.007567       0.324841   \n",
       "4       -0.155302                -0.007567      -1.849546   \n",
       "...           ...                      ...            ...   \n",
       "85902   -0.155302                -0.007567       1.049636   \n",
       "85903   -0.155302                -0.007567       0.324841   \n",
       "85904   -0.155302                -0.007567       1.049636   \n",
       "85905   -0.155302                -0.007567       0.324841   \n",
       "85906   -0.155302                -0.007567       1.049636   \n",
       "\n",
       "       Response_Time_minutes  Issue_DayOfWeek  Issue_Hour  \\\n",
       "0                  -0.173641        -0.941016   -0.716276   \n",
       "1                  -0.227647        -0.941016   -0.516377   \n",
       "2                  -0.193893        -0.941016    1.082822   \n",
       "3                  -0.197269        -0.941016    1.082822   \n",
       "4                  -0.227647        -0.941016   -0.916176   \n",
       "...                      ...              ...         ...   \n",
       "85902               0.582445        -0.429721    1.682521   \n",
       "85903              -0.227647         0.081574   -1.315976   \n",
       "85904              -0.222584         0.081574    0.683022   \n",
       "85905              -0.229335         0.081574    0.882922   \n",
       "85906              -0.229335         0.081574    1.682521   \n",
       "\n",
       "       channel_name_Inbound  channel_name_Outcall  category_Cancellation  \\\n",
       "0                         0                     1                      0   \n",
       "1                         0                     1                      0   \n",
       "2                         1                     0                      0   \n",
       "3                         1                     0                      0   \n",
       "4                         1                     0                      1   \n",
       "...                     ...                   ...                    ...   \n",
       "85902                     1                     0                      0   \n",
       "85903                     1                     0                      0   \n",
       "85904                     1                     0                      0   \n",
       "85905                     1                     0                      0   \n",
       "85906                     1                     0                      0   \n",
       "\n",
       "       category_Feedback  ...  Customer_City_ZUARINAGAR  \\\n",
       "0                      0  ...                         0   \n",
       "1                      0  ...                         0   \n",
       "2                      0  ...                         0   \n",
       "3                      0  ...                         0   \n",
       "4                      0  ...                         0   \n",
       "...                  ...  ...                       ...   \n",
       "85902                  0  ...                         0   \n",
       "85903                  0  ...                         0   \n",
       "85904                  0  ...                         0   \n",
       "85905                  1  ...                         0   \n",
       "85906                  0  ...                         0   \n",
       "\n",
       "       Product_category_Books & General merchandise  \\\n",
       "0                                                 0   \n",
       "1                                                 0   \n",
       "2                                                 0   \n",
       "3                                                 0   \n",
       "4                                                 0   \n",
       "...                                             ...   \n",
       "85902                                             0   \n",
       "85903                                             0   \n",
       "85904                                             0   \n",
       "85905                                             0   \n",
       "85906                                             0   \n",
       "\n",
       "       Product_category_Electronics  Product_category_Furniture  \\\n",
       "0                                 0                           0   \n",
       "1                                 0                           0   \n",
       "2                                 0                           0   \n",
       "3                                 0                           0   \n",
       "4                                 0                           0   \n",
       "...                             ...                         ...   \n",
       "85902                             0                           0   \n",
       "85903                             0                           0   \n",
       "85904                             0                           0   \n",
       "85905                             0                           0   \n",
       "85906                             0                           0   \n",
       "\n",
       "       Product_category_GiftCard  Product_category_Home  \\\n",
       "0                              0                      0   \n",
       "1                              0                      0   \n",
       "2                              0                      0   \n",
       "3                              0                      0   \n",
       "4                              0                      0   \n",
       "...                          ...                    ...   \n",
       "85902                          0                      0   \n",
       "85903                          0                      0   \n",
       "85904                          0                      0   \n",
       "85905                          0                      0   \n",
       "85906                          0                      0   \n",
       "\n",
       "       Product_category_Home Appliences  Product_category_LifeStyle  \\\n",
       "0                                     0                           0   \n",
       "1                                     0                           0   \n",
       "2                                     0                           0   \n",
       "3                                     0                           0   \n",
       "4                                     0                           0   \n",
       "...                                 ...                         ...   \n",
       "85902                                 0                           0   \n",
       "85903                                 0                           0   \n",
       "85904                                 0                           0   \n",
       "85905                                 0                           0   \n",
       "85906                                 0                           0   \n",
       "\n",
       "       Product_category_Mobile  Product_category_Unknown  \n",
       "0                            0                         1  \n",
       "1                            0                         1  \n",
       "2                            0                         1  \n",
       "3                            0                         1  \n",
       "4                            0                         1  \n",
       "...                        ...                       ...  \n",
       "85902                        0                         1  \n",
       "85903                        0                         1  \n",
       "85904                        0                         1  \n",
       "85905                        0                         1  \n",
       "85906                        0                         1  \n",
       "\n",
       "[85907 rows x 1870 columns]"
      ]
     },
     "execution_count": 29,
     "metadata": {},
     "output_type": "execute_result"
    }
   ],
   "source": [
    "x"
   ]
  },
  {
   "cell_type": "markdown",
   "id": "88a605ed",
   "metadata": {},
   "source": [
    "##### Splitting x and y into training and test set"
   ]
  },
  {
   "cell_type": "code",
   "execution_count": 30,
   "id": "7a7ed2fe",
   "metadata": {},
   "outputs": [],
   "source": [
    "from sklearn.model_selection import train_test_split\n",
    "\n",
    "x_train, x_test, y_train, y_test = train_test_split(x, y, test_size=0.2, random_state=42)"
   ]
  },
  {
   "cell_type": "markdown",
   "id": "aae30674",
   "metadata": {},
   "source": [
    "##### Training the ANN Model on the dataset using pytorch"
   ]
  },
  {
   "cell_type": "code",
   "execution_count": 31,
   "id": "a5bb0e37",
   "metadata": {},
   "outputs": [],
   "source": [
    "import torch\n",
    "from torch.utils.data import Dataset,DataLoader\n",
    "import torch.nn as nn\n",
    "import torch.optim as optim"
   ]
  },
  {
   "cell_type": "code",
   "execution_count": 32,
   "id": "05c39a37",
   "metadata": {},
   "outputs": [],
   "source": [
    "# Creating custom Dataset Class\n",
    "\n",
    "class CustomDataset(Dataset):\n",
    "\n",
    "    def __init__(self,features,labels):\n",
    "        self.features = torch.tensor(features, dtype=torch.float32) \n",
    "        self.labels = torch.tensor(labels, dtype=torch.long)\n",
    "\n",
    "    def __len__(self):\n",
    "\n",
    "        return len(self.features)\n",
    "\n",
    "    def __getitem__(self, index):\n",
    "        return self.features[index],self.labels[index]  \n"
   ]
  },
  {
   "cell_type": "code",
   "execution_count": 33,
   "id": "56feb2aa",
   "metadata": {},
   "outputs": [
    {
     "name": "stdout",
     "output_type": "stream",
     "text": [
      "Index(['Item_price', 'connected_handling_time', 'Tenure Bucket',\n",
      "       'Response_Time_minutes', 'Issue_DayOfWeek', 'Issue_Hour',\n",
      "       'channel_name_Inbound', 'channel_name_Outcall', 'category_Cancellation',\n",
      "       'category_Feedback',\n",
      "       ...\n",
      "       'Customer_City_ZUARINAGAR',\n",
      "       'Product_category_Books & General merchandise',\n",
      "       'Product_category_Electronics', 'Product_category_Furniture',\n",
      "       'Product_category_GiftCard', 'Product_category_Home',\n",
      "       'Product_category_Home Appliences', 'Product_category_LifeStyle',\n",
      "       'Product_category_Mobile', 'Product_category_Unknown'],\n",
      "      dtype='object', length=1870)\n",
      "['Item_price', 'connected_handling_time', 'Tenure Bucket', 'Response_Time_minutes', 'Issue_DayOfWeek', 'Issue_Hour', 'channel_name_Inbound', 'channel_name_Outcall', 'category_Cancellation', 'category_Feedback', 'category_Offers & Cashback', 'category_Onboarding related', 'category_Order Related', 'category_Others', 'category_Payments related', 'category_Product Queries', 'category_Refund Related', 'category_Returns', 'category_Shopzilla Related', 'Sub-category_Affiliate Offers', 'Sub-category_App/website Related', 'Sub-category_Billing Related', 'Sub-category_COD Refund Details', 'Sub-category_Call back request', 'Sub-category_Call disconnected', 'Sub-category_Card/EMI', 'Sub-category_Commission related', 'Sub-category_Customer Requested Modifications', 'Sub-category_Damaged', 'Sub-category_Delayed', 'Sub-category_Exchange / Replacement', 'Sub-category_Fraudulent User', 'Sub-category_General Enquiry', 'Sub-category_Installation/demo', 'Sub-category_Instant discount', 'Sub-category_Invoice request', 'Sub-category_Issues with Shopzilla App', 'Sub-category_Life Insurance', 'Sub-category_Missing', 'Sub-category_Non Order related', 'Sub-category_Not Needed', 'Sub-category_Online Payment Issues', 'Sub-category_Order Verification', 'Sub-category_Order status enquiry', 'Sub-category_Other Account Related Issues', 'Sub-category_Other Cashback', 'Sub-category_Others', 'Sub-category_PayLater related', 'Sub-category_Payment pending', 'Sub-category_Payment related Queries', 'Sub-category_Policy Related', 'Sub-category_Priority delivery', 'Sub-category_Product Specific Information', 'Sub-category_Product related Issues', 'Sub-category_Refund Enquiry', 'Sub-category_Refund Related Issues', 'Sub-category_Return cancellation', 'Sub-category_Return request', 'Sub-category_Reverse Pickup Enquiry', 'Sub-category_Self-Help', 'Sub-category_Seller Cancelled Order', 'Sub-category_Seller onboarding', 'Sub-category_Service Center - Service Denial', 'Sub-category_Service Centres Related', 'Sub-category_Shopzila Premium Related', 'Sub-category_Shopzilla Rewards', 'Sub-category_Signup Issues', 'Sub-category_Technician Visit', 'Sub-category_UnProfessional Behaviour', 'Sub-category_Unable to Login', 'Sub-category_Unable to track', 'Sub-category_Wallet related', 'Sub-category_Warranty related', 'Sub-category_Wrong', 'Sub-category_e-Gift Voucher', 'Agent Shift_Evening', 'Agent Shift_Morning', 'Agent Shift_Night', 'Agent Shift_Split', 'Customer_City_ABU ROAD', 'Customer_City_ADILABAD', 'Customer_City_ADIPUR', 'Customer_City_ADONI', 'Customer_City_ADOOR', 'Customer_City_ADRA', 'Customer_City_AFZALGARH', 'Customer_City_AGAR MALWA', 'Customer_City_AGARTALA', 'Customer_City_AGRA', 'Customer_City_AGUSTMUNI', 'Customer_City_AHMED NAGAR', 'Customer_City_AHMEDABAD', 'Customer_City_AHMEDGARH', 'Customer_City_AHRAURA', 'Customer_City_AILUM', 'Customer_City_AIZAWL', 'Customer_City_AJAIGARH', 'Customer_City_AJMER', 'Customer_City_AJNALA', 'Customer_City_AKALTARA', 'Customer_City_AKBARPUR', 'Customer_City_AKIVIDU', 'Customer_City_AKODA', 'Customer_City_AKOLA', 'Customer_City_AKOT', 'Customer_City_ALANGUDI', 'Customer_City_ALANGULAM', 'Customer_City_ALAPPUZHA', 'Customer_City_ALATHUR', 'Customer_City_ALDONA', 'Customer_City_ALIBAG', 'Customer_City_ALIGANJ', 'Customer_City_ALIGARH', 'Customer_City_ALIPORE', 'Customer_City_ALIPURDUAR', 'Customer_City_ALLAGADDA', 'Customer_City_ALLAHABAD', 'Customer_City_ALMORA', 'Customer_City_ALONG', 'Customer_City_ALUVA', 'Customer_City_ALWAR', 'Customer_City_AMALAPURAM', 'Customer_City_AMALNER', 'Customer_City_AMARPUR', 'Customer_City_AMB', 'Customer_City_AMBAD', 'Customer_City_AMBAH', 'Customer_City_AMBAJI', 'Customer_City_AMBALA', 'Customer_City_AMBASSA', 'Customer_City_AMBATTUR', 'Customer_City_AMBEDKAR NAGAR', 'Customer_City_AMBEGAON', 'Customer_City_AMBERNATH', 'Customer_City_AMBIKAPUR', 'Customer_City_AMER', 'Customer_City_AMLA', 'Customer_City_AMLOH', 'Customer_City_AMMOOR', 'Customer_City_AMODPUR', 'Customer_City_AMRAOTI', 'Customer_City_AMRAUDHA', 'Customer_City_AMRAVATI', 'Customer_City_AMRELI', 'Customer_City_AMRITSAR', 'Customer_City_AMROHA', 'Customer_City_ANAKAPALLE', 'Customer_City_ANAND', 'Customer_City_ANANDAPUR', 'Customer_City_ANANTAPUR', 'Customer_City_ANANTNAG', 'Customer_City_ANAPARTHI', 'Customer_City_ANDAL', 'Customer_City_ANGUL', 'Customer_City_ANJAR', 'Customer_City_ANKLESHWAR', 'Customer_City_ANTU', 'Customer_City_ANUGUL', 'Customer_City_ANUPGARH', 'Customer_City_ANUPSHAHR', 'Customer_City_ARAKKONAM', 'Customer_City_ARAMBAGH', 'Customer_City_ARARIA', 'Customer_City_ARIYALUR', 'Customer_City_ARMAPUR', 'Customer_City_ARMOOR', 'Customer_City_ARNIA', 'Customer_City_AROOR', 'Customer_City_ARRAH', 'Customer_City_ARSIKERE', 'Customer_City_ASANSOL', 'Customer_City_ASARGANJ', 'Customer_City_ASHOK NAGAR', 'Customer_City_ASHOKNAGAR', 'Customer_City_ATHANI', 'Customer_City_ATHMALLIK', 'Customer_City_ATPADI', 'Customer_City_ATRAULI', 'Customer_City_ATRAULIA', 'Customer_City_AURAIYA', 'Customer_City_AURANGABAD', 'Customer_City_AWAGARH', 'Customer_City_AYOOR', 'Customer_City_AZAMGARH', 'Customer_City_Ambajogai', 'Customer_City_Arni', 'Customer_City_Astichak', 'Customer_City_Aundha Nagnath', 'Customer_City_BABRALA', 'Customer_City_BACHHRAWAN', 'Customer_City_BADAUN', 'Customer_City_BADDI', 'Customer_City_BADGAM', 'Customer_City_BADLAPUR', 'Customer_City_BADNAWAR', 'Customer_City_BADURIA', 'Customer_City_BADVEL', 'Customer_City_BAGAHA', 'Customer_City_BAGALKOT', 'Customer_City_BAGBASSA', 'Customer_City_BAGESHWAR', 'Customer_City_BAGHMARA', 'Customer_City_BAGHPAT', 'Customer_City_BAGLI', 'Customer_City_BAGNAN', 'Customer_City_BAGULA', 'Customer_City_BAH', 'Customer_City_BAHADURGARH', 'Customer_City_BAHERI', 'Customer_City_BAHJOI', 'Customer_City_BAHRAICH', 'Customer_City_BAHULA', 'Customer_City_BAIHAR', 'Customer_City_BAIJNATH', 'Customer_City_BAIKUNTHPUR', 'Customer_City_BAILHONGAL', 'Customer_City_BAJNA', 'Customer_City_BAKHTIARPUR', 'Customer_City_BALAGHAT', 'Customer_City_BALASORE', 'Customer_City_BALESHWAR', 'Customer_City_BALICHAK', 'Customer_City_BALIJIPETA', 'Customer_City_BALLAVPUR', 'Customer_City_BALLIA', 'Customer_City_BALODA', 'Customer_City_BALOTRA', 'Customer_City_BALRAMPUR', 'Customer_City_BALUGAON', 'Customer_City_BALURGHAT', 'Customer_City_BANDA', 'Customer_City_BANDEL', 'Customer_City_BANDIPORA', 'Customer_City_BANGA', 'Customer_City_BANGALORE', 'Customer_City_BANGALORE SOUTH', 'Customer_City_BANJAR', 'Customer_City_BANKA', 'Customer_City_BANKURA', 'Customer_City_BANSBERIA', 'Customer_City_BANSDIH', 'Customer_City_BANSGAON', 'Customer_City_BANSI', 'Customer_City_BANSWARA', 'Customer_City_BANTUMILLI', 'Customer_City_BANTWAL', 'Customer_City_BANUR', 'Customer_City_BAPATLA', 'Customer_City_BARABANKI', 'Customer_City_BARAGAON', 'Customer_City_BARAHIYA', 'Customer_City_BARAMATI', 'Customer_City_BARAMULLA', 'Customer_City_BARAN', 'Customer_City_BARASAT', 'Customer_City_BARAST', 'Customer_City_BARAUNI', 'Customer_City_BARAUT', 'Customer_City_BARBIL', 'Customer_City_BARDHAMAN', 'Customer_City_BARDOLI', 'Customer_City_BAREILLY', 'Customer_City_BARGARH', 'Customer_City_BARH', 'Customer_City_BARIPADA', 'Customer_City_BARIPARA', 'Customer_City_BARJORA', 'Customer_City_BARKHERA', 'Customer_City_BARMER', 'Customer_City_BARNALA', 'Customer_City_BARODA', 'Customer_City_BARPETA', 'Customer_City_BARSANA', 'Customer_City_BARSHI', 'Customer_City_BARWANI', 'Customer_City_BASAVAKALYAN', 'Customer_City_BASTI', 'Customer_City_BASUGAON', 'Customer_City_BATHINDA', 'Customer_City_BATLAGUNDU', 'Customer_City_BATOTE', 'Customer_City_BAUDH', 'Customer_City_BAVLA', 'Customer_City_BAWAL', 'Customer_City_BEED', 'Customer_City_BEERWAH', 'Customer_City_BEGAMPUR', 'Customer_City_BEGUN', 'Customer_City_BEGUSARAI', 'Customer_City_BEHROR', 'Customer_City_BELDA', 'Customer_City_BELGAUM', 'Customer_City_BELIATORE', 'Customer_City_BELLAMPALLI', 'Customer_City_BELLARY', 'Customer_City_BELONIA', 'Customer_City_BELPAHAR', 'Customer_City_BELTHANGADY', 'Customer_City_BENIGANJ', 'Customer_City_BERHAMPORE', 'Customer_City_BERHAMPUR', 'Customer_City_BERMO', 'Customer_City_BETIA', 'Customer_City_BETTIAH', 'Customer_City_BETUL', 'Customer_City_BHABUA', 'Customer_City_BHACHAU', 'Customer_City_BHADERWAH', 'Customer_City_BHADOHI', 'Customer_City_BHADRAK', 'Customer_City_BHADRESWAR', 'Customer_City_BHAGALPUR', 'Customer_City_BHAINSA', 'Customer_City_BHALKI', 'Customer_City_BHANDARA', 'Customer_City_BHANDER', 'Customer_City_BHARATPUR', 'Customer_City_BHARTHANA', 'Customer_City_BHARUCH', 'Customer_City_BHATINDA', 'Customer_City_BHATKAL', 'Customer_City_BHATPAR RANI', 'Customer_City_BHATPARA', 'Customer_City_BHAVNAGAR', 'Customer_City_BHIKHI', 'Customer_City_BHILAD', 'Customer_City_BHILWARA', 'Customer_City_BHIMAVARAM', 'Customer_City_BHIND', 'Customer_City_BHINGA', 'Customer_City_BHINMAL', 'Customer_City_BHIWADI', 'Customer_City_BHIWANDI', 'Customer_City_BHIWANI', 'Customer_City_BHONGIR', 'Customer_City_BHOPAL', 'Customer_City_BHOTA', 'Customer_City_BHUBAN', 'Customer_City_BHUBANESWAR', 'Customer_City_BHUJ', 'Customer_City_BHUPALAPALLI', 'Customer_City_BHUSAWAL', 'Customer_City_BIAORA', 'Customer_City_BICHOLIM', 'Customer_City_BIDAR', 'Customer_City_BIDHUNA', 'Customer_City_BIHAR SHARIF', 'Customer_City_BIHARSHARIF', 'Customer_City_BIJAIPUR', 'Customer_City_BIJAPUR', 'Customer_City_BIJBEHARA', 'Customer_City_BIJNI', 'Customer_City_BIJNOR', 'Customer_City_BIJNORE', 'Customer_City_BIKANER', 'Customer_City_BIKAPUR', 'Customer_City_BILARI', 'Customer_City_BILASPUR', 'Customer_City_BILGRAM', 'Customer_City_BILIMORA', 'Customer_City_BILSANDA', 'Customer_City_BILSI', 'Customer_City_BINA', 'Customer_City_BINNAGURI', 'Customer_City_BIRLAPUR', 'Customer_City_BISAULI', 'Customer_City_BISHNUPUR', 'Customer_City_BISWAN', 'Customer_City_BISWANATH CHARIALI', 'Customer_City_BOARIJOR', 'Customer_City_BODELI', 'Customer_City_BODHAN', 'Customer_City_BODINAYAKANUR', 'Customer_City_BOKAJAN', 'Customer_City_BOKARO', 'Customer_City_BOLANGIR', 'Customer_City_BOLPUR', 'Customer_City_BOMDILA', 'Customer_City_BONDAPALLI', 'Customer_City_BONGAIGAON', 'Customer_City_BONGAON', 'Customer_City_BOTAD', 'Customer_City_BRAJARAJNAGAR', 'Customer_City_BUDAUN', 'Customer_City_BUDHANA', 'Customer_City_BUDHLADA', 'Customer_City_BUDNI', 'Customer_City_BULANDSHAHR', 'Customer_City_BULDHANA', 'Customer_City_BUNDI', 'Customer_City_BUNDU', 'Customer_City_BURDWAN', 'Customer_City_BURHANPUR', 'Customer_City_BURLA', 'Customer_City_BUXAR', 'Customer_City_BYRNIHAT', 'Customer_City_Babain', 'Customer_City_Bagoar', 'Customer_City_Baloda Bazar', 'Customer_City_Barkagaon', 'Customer_City_Barkatha', 'Customer_City_Basna', 'Customer_City_Bhainsdehi', 'Customer_City_Birbhum', 'Customer_City_CACHAR', 'Customer_City_CANACONA', 'Customer_City_CANDOLIM', 'Customer_City_CHABUA', 'Customer_City_CHAIBASA', 'Customer_City_CHAKIA', 'Customer_City_CHAKRADHARPUR', 'Customer_City_CHALISGAON', 'Customer_City_CHALTHAN', 'Customer_City_CHAMARAJANAGAR', 'Customer_City_CHAMBA', 'Customer_City_CHAMORHSI', 'Customer_City_CHAMPA', 'Customer_City_CHAMPAWAT', 'Customer_City_CHANDANNAGAR', 'Customer_City_CHANDAULI', 'Customer_City_CHANDBALI', 'Customer_City_CHANDIGARH', 'Customer_City_CHANDLA', 'Customer_City_CHANDRAPUR', 'Customer_City_CHANDRAPURA', 'Customer_City_CHANGANACHERRY', 'Customer_City_CHANGANASSERY', 'Customer_City_CHAPRA', 'Customer_City_CHARKHI DADRI', 'Customer_City_CHAS', 'Customer_City_CHATRA', 'Customer_City_CHATRAPUR', 'Customer_City_CHAVAKKAD', 'Customer_City_CHEEMA', 'Customer_City_CHENANI', 'Customer_City_CHENGALPATTU', 'Customer_City_CHENGANNUR', 'Customer_City_CHENNAI', 'Customer_City_CHERTHALA', 'Customer_City_CHERUUVU', 'Customer_City_CHHAPRAULI', 'Customer_City_CHHARRAH', 'Customer_City_CHHATARPUR', 'Customer_City_CHHINDWARA', 'Customer_City_CHIDAMBARAM', 'Customer_City_CHIKHLI', 'Customer_City_CHIKMAGALUR', 'Customer_City_CHIKODI', 'Customer_City_CHINCHOLI', 'Customer_City_CHINSURAH', 'Customer_City_CHINTAMANI', 'Customer_City_CHIPLUN', 'Customer_City_CHIRALA', 'Customer_City_CHIRAWA', 'Customer_City_CHITRADURGA', 'Customer_City_CHITRAKOOT', 'Customer_City_CHITTOOR', 'Customer_City_CHITTORGARH', 'Customer_City_CHOPAN', 'Customer_City_CHORVAD', 'Customer_City_CHORYASI', 'Customer_City_CHOUTUPPAL', 'Customer_City_CHURU', 'Customer_City_COIMBATORE', 'Customer_City_COLVALE', 'Customer_City_CONTAI', 'Customer_City_COONOOR', 'Customer_City_CORTALIM', 'Customer_City_CUDDALORE', 'Customer_City_CUDDAPAH', 'Customer_City_CUMBUM', 'Customer_City_CURCHOREM', 'Customer_City_CUTTACK', 'Customer_City_Chakdah', 'Customer_City_Chickballapur', 'Customer_City_Cooch Behar', 'Customer_City_DABRA', 'Customer_City_DADRA', 'Customer_City_DADRI', 'Customer_City_DAHANU', 'Customer_City_DAHOD', 'Customer_City_DAINHAT', 'Customer_City_DALLI RAJHARA', 'Customer_City_DALTONGANJ', 'Customer_City_DAMAN', 'Customer_City_DAMANJODI', 'Customer_City_DAMOH', 'Customer_City_DANKAUR', 'Customer_City_DANKUNI', 'Customer_City_DAPOLI', 'Customer_City_DAPORIJO', 'Customer_City_DARBHANGA', 'Customer_City_DARJEELING', 'Customer_City_DARJILING', 'Customer_City_DARWHA', 'Customer_City_DASUYA', 'Customer_City_DATIA', 'Customer_City_DAUND', 'Customer_City_DAUSA', 'Customer_City_DAVANGERE', 'Customer_City_DEBAGARH', 'Customer_City_DEESA', 'Customer_City_DEHRADUN', 'Customer_City_DEHRI ON SONE', 'Customer_City_DEKARGAON', 'Customer_City_DEODURGA', 'Customer_City_DEOGHAR', 'Customer_City_DEORIA', 'Customer_City_DEPALPUR', 'Customer_City_DERA BABA NANAK', 'Customer_City_DERABASSI', 'Customer_City_DEVADURGA', 'Customer_City_DEVARAKONDA', 'Customer_City_DEVARAPALLI', 'Customer_City_DEVPRAYAG', 'Customer_City_DEWA', 'Customer_City_DEWAS', 'Customer_City_DHAKA', 'Customer_City_DHAMPUR', 'Customer_City_DHAMTARI', 'Customer_City_DHANBAD', 'Customer_City_DHANDHUKA', 'Customer_City_DHANERA', 'Customer_City_DHANKAUDA', 'Customer_City_DHAR', 'Customer_City_DHARAMASALA', 'Customer_City_DHARANGAON', 'Customer_City_DHARMABAD', 'Customer_City_DHARMAPURI', 'Customer_City_DHARMAVARAM', 'Customer_City_DHARUHERA', 'Customer_City_DHARWAD', 'Customer_City_DHATRIGRAM', 'Customer_City_DHEKIAJULI', 'Customer_City_DHEMAJI', 'Customer_City_DHENKANAL', 'Customer_City_DHING', 'Customer_City_DHOLKA', 'Customer_City_DHOLPUR', 'Customer_City_DHRANGADHRA', 'Customer_City_DHUBRI', 'Customer_City_DHULE', 'Customer_City_DHULIYAN', 'Customer_City_DHUPGURI', 'Customer_City_DIAMOND HARBOUR', 'Customer_City_DIBRUGARH', 'Customer_City_DIDWANA', 'Customer_City_DIGAPAHANDI', 'Customer_City_DIGBOI', 'Customer_City_DIMAPUR', 'Customer_City_DINA NAGAR', 'Customer_City_DINDIGUL', 'Customer_City_DINHATA', 'Customer_City_DIPHU', 'Customer_City_DIU', 'Customer_City_DODA', 'Customer_City_DOHAD', 'Customer_City_DOIMUKH', 'Customer_City_DOIWALA', 'Customer_City_DOMJUR', 'Customer_City_DOOM DOOMA', 'Customer_City_DORAHA', 'Customer_City_DUDHI', 'Customer_City_DULIAJAN', 'Customer_City_DUMKA', 'Customer_City_DUNGARPUR', 'Customer_City_DURG', 'Customer_City_DURGAPUR', 'Customer_City_DURGAPUR MC', 'Customer_City_DURGAWATI', 'Customer_City_DUTTAPUKUR', 'Customer_City_DWARAHAT', 'Customer_City_Devandra Nagar', 'Customer_City_Dhansura', 'Customer_City_EAST CHAMPARAN', 'Customer_City_EAST GODAVARI', 'Customer_City_EDAPPAL', 'Customer_City_EGRA', 'Customer_City_EKDIL', 'Customer_City_ELLENABAD', 'Customer_City_ELURU', 'Customer_City_ENGLISH BAZAR', 'Customer_City_ERANDOL', 'Customer_City_ERNAD', 'Customer_City_ERNAKULAM', 'Customer_City_ERODE', 'Customer_City_ETAH', 'Customer_City_ETAWAH', 'Customer_City_ETTAYAPURAM', 'Customer_City_ETWAH', 'Customer_City_FAIZABAD', 'Customer_City_FAIZPUR', 'Customer_City_FALAKATA', 'Customer_City_FARAKKA', 'Customer_City_FARIDABAD', 'Customer_City_FARIDKOT', 'Customer_City_FARRUKHABAD', 'Customer_City_FARUKHABAD', 'Customer_City_FATEHABAD', 'Customer_City_FATEHGARH SAHIB', 'Customer_City_FATEHGARHCHURIAN', 'Customer_City_FATEHPUR', 'Customer_City_FATEHPUR SIKRI', 'Customer_City_FAZILKA', 'Customer_City_FEKAMARI', 'Customer_City_FEROZEPUR', 'Customer_City_FEROZEPUR JHIRKA', 'Customer_City_FIROZABAD', 'Customer_City_FIROZPUR', 'Customer_City_FULIA', 'Customer_City_GADAG', 'Customer_City_GADARWARA', 'Customer_City_GADCHIROLI', 'Customer_City_GADHINGLAJ', 'Customer_City_GAIRKATA', 'Customer_City_GAIRSAIN', 'Customer_City_GALIAKOT', 'Customer_City_GANAPAVARAM', 'Customer_City_GANDHIDHAM', 'Customer_City_GANDHINAGAR', 'Customer_City_GANGAJALGHATI', 'Customer_City_GANGANAGAR', 'Customer_City_GANGAPUR', 'Customer_City_GANGAPUR CITY', 'Customer_City_GANGARAMPUR', 'Customer_City_GANGOH', 'Customer_City_GANGTOK', 'Customer_City_GANJ BASODA', 'Customer_City_GANNAVARAM', 'Customer_City_GARHSHANKAR', 'Customer_City_GARHWA', 'Customer_City_GARIVIDI', 'Customer_City_GAURI BAZAR', 'Customer_City_GAUTAM BUDDHA NAGAR', 'Customer_City_GAYA', 'Customer_City_GHANSORE', 'Customer_City_GHARGHODA', 'Customer_City_GHATAGAON', 'Customer_City_GHATAL', 'Customer_City_GHATSHILA', 'Customer_City_GHAZIABAD', 'Customer_City_GHAZIPUR', 'Customer_City_GHOGHARDIHA', 'Customer_City_GHORAMARI', 'Customer_City_GHORAWAL', 'Customer_City_GHOSI', 'Customer_City_GHUMARWIN', 'Customer_City_GIDDALUR', 'Customer_City_GIDDERBAHA', 'Customer_City_GIRIDH', 'Customer_City_GIRIDIH', 'Customer_City_GOALPARA', 'Customer_City_GOBICHETTIPALAYAM', 'Customer_City_GOBINDPUR', 'Customer_City_GODAVARIKHANI', 'Customer_City_GODDA', 'Customer_City_GODHRA', 'Customer_City_GOGAMUKH', 'Customer_City_GOHAD', 'Customer_City_GOHANA', 'Customer_City_GOHPUR', 'Customer_City_GOLA GOKARANNATH', 'Customer_City_GOLAGHAT', 'Customer_City_GOLLAPROLU', 'Customer_City_GONDA', 'Customer_City_GONDAL', 'Customer_City_GONDIA', 'Customer_City_GOPALGANJ', 'Customer_City_GOPALPUR', 'Customer_City_GOPESHWAR', 'Customer_City_GORAKHPUR', 'Customer_City_GORAKHPUR SADAR', 'Customer_City_GORAYA', 'Customer_City_GOREGAON', 'Customer_City_GREATER NOIDA', 'Customer_City_GUA', 'Customer_City_GUDALUR', 'Customer_City_GUDIVADA', 'Customer_City_GUDIYATTAM', 'Customer_City_GUHAGAR', 'Customer_City_GUHLA', 'Customer_City_GULABPURA', 'Customer_City_GULBARGA', 'Customer_City_GUMLA', 'Customer_City_GUMMIDIPOONDI', 'Customer_City_GUNA', 'Customer_City_GUNDUGOLANU', 'Customer_City_GUNNAUR', 'Customer_City_GUNTAKAL', 'Customer_City_GUNTUR', 'Customer_City_GUNUPUR', 'Customer_City_GURDASPUR', 'Customer_City_GURGAON', 'Customer_City_GURSARAI', 'Customer_City_GUWAHATI', 'Customer_City_GWALIOR', 'Customer_City_GYANPUR', 'Customer_City_Garoth', 'Customer_City_Garu bathan II', 'Customer_City_Garur', 'Customer_City_HABRA', 'Customer_City_HADGAON', 'Customer_City_HAFLONG', 'Customer_City_HAJIPUR', 'Customer_City_HALDIA', 'Customer_City_HALDIBARI', 'Customer_City_HALDWANI', 'Customer_City_HALISAHAR', 'Customer_City_HALOL', 'Customer_City_HAMIRPUR', 'Customer_City_HANDIA', 'Customer_City_HANDWARA', 'Customer_City_HANGAL', 'Customer_City_HANSI', 'Customer_City_HANUMANA', 'Customer_City_HANUMANGARH', 'Customer_City_HAPUR', 'Customer_City_HARAPANAHALLI', 'Customer_City_HARDA', 'Customer_City_HARDOI', 'Customer_City_HARIDWAR', 'Customer_City_HARIHARPUR', 'Customer_City_HARPALPUR', 'Customer_City_HARRAIYA', 'Customer_City_HARSUD', 'Customer_City_HASANPUR', 'Customer_City_HASAYAN', 'Customer_City_HASSAN', 'Customer_City_HASSANPUR', 'Customer_City_HATA', 'Customer_City_HATADIHI', 'Customer_City_HATHRAS', 'Customer_City_HATKANAGALE', 'Customer_City_HATTA', 'Customer_City_HAZARIBAGH', 'Customer_City_HAZIPUR', 'Customer_City_HILSA', 'Customer_City_HIMATNAGAR', 'Customer_City_HINDAUN CITY', 'Customer_City_HINDMOTOR', 'Customer_City_HINDORIA', 'Customer_City_HINDUPUR', 'Customer_City_HINGANGHAT', 'Customer_City_HINGOLI', 'Customer_City_HIRIYUR', 'Customer_City_HISAR', 'Customer_City_HISSAR', 'Customer_City_HODAL', 'Customer_City_HOJAI', 'Customer_City_HOLE NARSIPUR', 'Customer_City_HOOGHLY', 'Customer_City_HOSHANGABAD', 'Customer_City_HOSHIARPUR', 'Customer_City_HOSKOTE', 'Customer_City_HOSPET', 'Customer_City_HOSUR', 'Customer_City_HOWLI', 'Customer_City_HOWRAH', 'Customer_City_HUMNABAD', 'Customer_City_HUNSUR', 'Customer_City_HUZUR', 'Customer_City_HUZURNAGAR', 'Customer_City_HYDERABAD', 'Customer_City_IBRAHIMPATNAM', 'Customer_City_ICHALKARANJI', 'Customer_City_ICHCHAPURAM', 'Customer_City_IDAR', 'Customer_City_IDUKKI', 'Customer_City_IKAUNA', 'Customer_City_IMPHAL', 'Customer_City_INDAPUR', 'Customer_City_INDORE', 'Customer_City_INDRI', 'Customer_City_ISLAMPUR', 'Customer_City_ITANAGAR', 'Customer_City_ITARSI', 'Customer_City_JABALPUR', 'Customer_City_JADCHERLA', 'Customer_City_JAGATSINGHAPUR', 'Customer_City_JAGDALPUR', 'Customer_City_JAGGAMPETA', 'Customer_City_JAGGAYYAPET', 'Customer_City_JAGIROAD', 'Customer_City_JAGRAON', 'Customer_City_JAGTIAL', 'Customer_City_JAHANABAD', 'Customer_City_JAHANGIRPUR', 'Customer_City_JAIGAON', 'Customer_City_JAIPUR', 'Customer_City_JAISALMER', 'Customer_City_JAJPUR', 'Customer_City_JAJPUR ROAD', 'Customer_City_JALALABAD', 'Customer_City_JALALPUR', 'Customer_City_JALANDHAR', 'Customer_City_JALAUN', 'Customer_City_JALGAON', 'Customer_City_JALNA', 'Customer_City_JALORE', 'Customer_City_JALPAIGURI', 'Customer_City_JAMALPUR', 'Customer_City_JAMKHANDI', 'Customer_City_JAMKHED', 'Customer_City_JAMMU', 'Customer_City_JAMNAGAR', 'Customer_City_JAMSHEDPUR', 'Customer_City_JAMTARA', 'Customer_City_JAMUI', 'Customer_City_JANGAREDDYGUDEM', 'Customer_City_JANGIPUR', 'Customer_City_JANJGIR - CHAMPA', 'Customer_City_JANSATH', 'Customer_City_JAPLA', 'Customer_City_JARWAL', 'Customer_City_JASHPUR', 'Customer_City_JASIDIH', 'Customer_City_JASPUR', 'Customer_City_JASRANA', 'Customer_City_JATNI', 'Customer_City_JAUNPUR', 'Customer_City_JAYSINGPUR', 'Customer_City_JEJURI', 'Customer_City_JETPUR', 'Customer_City_JEWAR', 'Customer_City_JEYPORE', 'Customer_City_JHABUA', 'Customer_City_JHAJJAR', 'Customer_City_JHALAWAR', 'Customer_City_JHALDA', 'Customer_City_JHALU', 'Customer_City_JHANJHARPUR', 'Customer_City_JHANSI', 'Customer_City_JHARGRAM', 'Customer_City_JHARIA', 'Customer_City_JHARSUGUDA', 'Customer_City_JHINJHAK', 'Customer_City_JHUJHUNU', 'Customer_City_JHUMRI TELAIYA', 'Customer_City_JIND', 'Customer_City_JINTUR', 'Customer_City_JOBNER', 'Customer_City_JODA', 'Customer_City_JODHPUR', 'Customer_City_JORETHANG', 'Customer_City_JORHAT', 'Customer_City_JOURA', 'Customer_City_JOYA', 'Customer_City_JUBBAL', 'Customer_City_JULANA', 'Customer_City_JUNAGADH', 'Customer_City_JUNAGARH', 'Customer_City_JUNNAR', 'Customer_City_Jaunnardeo', 'Customer_City_KADAPA', 'Customer_City_KADATHUR', 'Customer_City_KADI', 'Customer_City_KADIPUR', 'Customer_City_KAGAL', 'Customer_City_KAHALGAON', 'Customer_City_KAIKALUR', 'Customer_City_KAILASHAHAR', 'Customer_City_KAIMUR', 'Customer_City_KAIRANA', 'Customer_City_KAITHAL', 'Customer_City_KAKDWIP', 'Customer_City_KAKINADA', 'Customer_City_KALAHANDI', 'Customer_City_KALAIGAON', 'Customer_City_KALAMB', 'Customer_City_KALANWALI', 'Customer_City_KALIMPONG', 'Customer_City_KALIYAGANJ', 'Customer_City_KALKA', 'Customer_City_KALLIDAIKURICHI', 'Customer_City_KALNA', 'Customer_City_KALOL', 'Customer_City_KALPETTA', 'Customer_City_KALYANDURG', 'Customer_City_KALYANI', 'Customer_City_KAMALANAGAR', 'Customer_City_KAMALGANJ', 'Customer_City_KAMRUP', 'Customer_City_KANCHIPURAM', 'Customer_City_KANCHRAPARA', 'Customer_City_KANDAHR', 'Customer_City_KANDHAMAL', 'Customer_City_KANDI', 'Customer_City_KANDUKUR', 'Customer_City_KANGAYAMPALAYAM', 'Customer_City_KANGRA', 'Customer_City_KANINA', 'Customer_City_KANKER', 'Customer_City_KANKINARA', 'Customer_City_KANNAD', 'Customer_City_KANNAUJ', 'Customer_City_KANNUR', 'Customer_City_KANPUR', 'Customer_City_KANPUR DEHAT', 'Customer_City_KANPUR NAGAR', 'Customer_City_KANTH', 'Customer_City_KANYAKUMARI', 'Customer_City_KAPURTHALA', 'Customer_City_KARAD', 'Customer_City_KARAIKAL', 'Customer_City_KARAMADAI', 'Customer_City_KARAMSAD', 'Customer_City_KARANJIA', 'Customer_City_KARAULI', 'Customer_City_KARBI ANGLONG', 'Customer_City_KARIMGANJ', 'Customer_City_KARIMNAGAR', 'Customer_City_KARIMPUR', 'Customer_City_KARJAT', 'Customer_City_KARKALA', 'Customer_City_KARNAL', 'Customer_City_KARNAWAD', 'Customer_City_KARTHIKAPPALLY', 'Customer_City_KARUNAGAPPALLY', 'Customer_City_KARUR', 'Customer_City_KARVEER', 'Customer_City_KARWAR', 'Customer_City_KASARGOD', 'Customer_City_KASARGODE', 'Customer_City_KASGANJ', 'Customer_City_KASHIPUR', 'Customer_City_KATANGI', 'Customer_City_KATHGODAM', 'Customer_City_KATHUA', 'Customer_City_KATIHAR', 'Customer_City_KATNI', 'Customer_City_KATOL', 'Customer_City_KATRA', 'Customer_City_KATWA', 'Customer_City_KAUSHAMBI', 'Customer_City_KAVALI', 'Customer_City_KAWARDHA', 'Customer_City_KEDLA', 'Customer_City_KEKRI', 'Customer_City_KENDRAPARA', 'Customer_City_KENDUJHAR', 'Customer_City_KESHOD', 'Customer_City_KHAGA', 'Customer_City_KHAGARIA', 'Customer_City_KHALAPUR', 'Customer_City_KHALIHAMARI', 'Customer_City_KHALILABAD', 'Customer_City_KHAMBHALIA', 'Customer_City_KHAMGAON', 'Customer_City_KHAMMAM', 'Customer_City_KHANAPUR', 'Customer_City_KHANDWA', 'Customer_City_KHANNA', 'Customer_City_KHARAGPUR', 'Customer_City_KHARAR', 'Customer_City_KHARGONE', 'Customer_City_KHARIAR', 'Customer_City_KHATEGAON', 'Customer_City_KHATIMA', 'Customer_City_KHATRA', 'Customer_City_KHEDA', 'Customer_City_KHEM KARAN', 'Customer_City_KHERALU', 'Customer_City_KHERI', 'Customer_City_KHERLI', 'Customer_City_KHIRKIYAN', 'Customer_City_KHONSA', 'Customer_City_KHOPOLI', 'Customer_City_KHREW', 'Customer_City_KHUDAGANJ', 'Customer_City_KHURJA', 'Customer_City_KHUTAR', 'Customer_City_KICHHA', 'Customer_City_KILVELUR', 'Customer_City_KINWAT', 'Customer_City_KIRATPUR', 'Customer_City_KIRTINAGAR', 'Customer_City_KISHANGANJ', 'Customer_City_KISHANGARH', 'Customer_City_KISHTWAR', 'Customer_City_KOATH', 'Customer_City_KOCH BIHAR', 'Customer_City_KODAD', 'Customer_City_KODAIKANAL', 'Customer_City_KODERMA', 'Customer_City_KODUR', 'Customer_City_KOHIMA', 'Customer_City_KOILWAR', 'Customer_City_KOKRAJHAR', 'Customer_City_KOLAGHAT', 'Customer_City_KOLAR', 'Customer_City_KOLHAPUR', 'Customer_City_KOLKATA', 'Customer_City_KOLKATTA', 'Customer_City_KOLLAM', 'Customer_City_KOMARAPALAYAM', 'Customer_City_KONNAGAR', 'Customer_City_KOPARGAON', 'Customer_City_KOPPAL', 'Customer_City_KORAPUT', 'Customer_City_KORBA', 'Customer_City_KORDHA', 'Customer_City_KOSAMBA', 'Customer_City_KOTA', 'Customer_City_KOTHAKOTA', 'Customer_City_KOTHAPETA', 'Customer_City_KOTPAD', 'Customer_City_KOTPUTLI', 'Customer_City_KOTTAYAM', 'Customer_City_KOVILPATTI', 'Customer_City_KOZHENCHERRY', 'Customer_City_KOZHIKODE', 'Customer_City_KRISHNA', 'Customer_City_KRISHNAGAR', 'Customer_City_KRISHNANAGAR', 'Customer_City_KRISHNARAJPET', 'Customer_City_KRISHNARAYAPURAM', 'Customer_City_KUCHAMAN CITY', 'Customer_City_KUDAL', 'Customer_City_KUJANG', 'Customer_City_KUKSHI', 'Customer_City_KULGAM', 'Customer_City_KULLU', 'Customer_City_KULTI', 'Customer_City_KUMBAKONAM', 'Customer_City_KUNDAPURA', 'Customer_City_KUNIGAL', 'Customer_City_KUNKURI', 'Customer_City_KUPPAM', 'Customer_City_KUPWARA', 'Customer_City_KURALI', 'Customer_City_KURNOOL', 'Customer_City_KURUD', 'Customer_City_KURUKSHETRA', 'Customer_City_KUSHALGARH', 'Customer_City_KUSHINAGAR', 'Customer_City_KUTTANAD', 'Customer_City_Kalyan', 'Customer_City_Kamthi', 'Customer_City_Kotda', 'Customer_City_Kotma', 'Customer_City_LADWA', 'Customer_City_LAHAR', 'Customer_City_LAHARPUR', 'Customer_City_LAKHANPUR', 'Customer_City_LAKHERI', 'Customer_City_LAKHIMPUR', 'Customer_City_LAKHISARAI', 'Customer_City_LAKHNA', 'Customer_City_LAKSHMESHWAR', 'Customer_City_LALBARRA', 'Customer_City_LALGANJ', 'Customer_City_LALITPUR', 'Customer_City_LALKUAN', 'Customer_City_LALPUR', 'Customer_City_LALSOT', 'Customer_City_LAMBI', 'Customer_City_LANJIGARH', 'Customer_City_LANKA', 'Customer_City_LATEHAR', 'Customer_City_LATUR', 'Customer_City_LAUNDI', 'Customer_City_LAWNGTLAI', 'Customer_City_LEDO', 'Customer_City_LEH', 'Customer_City_LINGOTAM', 'Customer_City_LOHA', 'Customer_City_LOHAGHAT', 'Customer_City_LOHARDAGA', 'Customer_City_LOHARU', 'Customer_City_LONAVALA', 'Customer_City_LONGOWAL', 'Customer_City_LONI', 'Customer_City_LORMI', 'Customer_City_LUCKNOW', 'Customer_City_LUDHIANA', 'Customer_City_LUNAWADA', 'Customer_City_LUXETTIPET', 'Customer_City_Laksar', 'Customer_City_MACHILIPATNAM', 'Customer_City_MADANAPALLE', 'Customer_City_MADANPUR', 'Customer_City_MADANRITTING', 'Customer_City_MADHEPURA', 'Customer_City_MADHIRA', 'Customer_City_MADHOGARH', 'Customer_City_MADHUBANI', 'Customer_City_MADHUGIRI', 'Customer_City_MADHUPUR', 'Customer_City_MADURAI', 'Customer_City_MAHABALESHWAR', 'Customer_City_MAHABUB NAGAR', 'Customer_City_MAHABUBABAD', 'Customer_City_MAHAD', 'Customer_City_MAHAGAM', 'Customer_City_MAHBOOBNAGAR', 'Customer_City_MAHENDRAGARH', 'Customer_City_MAHESANA', 'Customer_City_MAHOBA', 'Customer_City_MAHOLI', 'Customer_City_MAHRAJGANJ', 'Customer_City_MAHU KALAN', 'Customer_City_MAHUVA', 'Customer_City_MAHWA', 'Customer_City_MAIHAR', 'Customer_City_MAINPURI', 'Customer_City_MAJHOLI', 'Customer_City_MAKHU', 'Customer_City_MAKRANA', 'Customer_City_MALAPPURAM', 'Customer_City_MALDA', 'Customer_City_MALEGAON', 'Customer_City_MALERKOTLA', 'Customer_City_MALIHABAD', 'Customer_City_MALKAPUR', 'Customer_City_MALOUT', 'Customer_City_MALPUR', 'Customer_City_MANALI', 'Customer_City_MANANTHAVADY', 'Customer_City_MANASA', 'Customer_City_MANAVADAR', 'Customer_City_MANAVALAKURICHI', 'Customer_City_MANAWAR', 'Customer_City_MANCHAR', 'Customer_City_MANDASUR', 'Customer_City_MANDAWA', 'Customer_City_MANDAWAR', 'Customer_City_MANDI', 'Customer_City_MANDI DABWALI', 'Customer_City_MANDI GOBINDGARH', 'Customer_City_MANDIDEEP', 'Customer_City_MANDLA', 'Customer_City_MANDVI', 'Customer_City_MANDYA', 'Customer_City_MANENDRAGARH', 'Customer_City_MANER', 'Customer_City_MANESWAR', 'Customer_City_MANGALDOI', 'Customer_City_MANGALORE', 'Customer_City_MANGAON', 'Customer_City_MANIPAL', 'Customer_City_MANMAD', 'Customer_City_MANOR', 'Customer_City_MANPUR', 'Customer_City_MANSAR', 'Customer_City_MAPUSA', 'Customer_City_MAREHRA', 'Customer_City_MARGAO', 'Customer_City_MARGHERITA', 'Customer_City_MARIAHU', 'Customer_City_MARIGAON', 'Customer_City_MARKAPUR', 'Customer_City_MASAURHI', 'Customer_City_MASLANDAPUR', 'Customer_City_MATHURA', 'Customer_City_MAU', 'Customer_City_MAUGANJ', 'Customer_City_MAVAL', 'Customer_City_MAWLAI', 'Customer_City_MAYNAGURI', 'Customer_City_MECHEDA', 'Customer_City_MEDAK', 'Customer_City_MEDINIPUR', 'Customer_City_MEERUT', 'Customer_City_MEGHNAGAR', 'Customer_City_MEGHRAJ', 'Customer_City_MEHNAGAR', 'Customer_City_MELMARUVATHUR', 'Customer_City_MEMARI', 'Customer_City_MERTA CITY', 'Customer_City_METPALLY', 'Customer_City_MHOW', 'Customer_City_MIDNAPORE', 'Customer_City_MILAK', 'Customer_City_MIRAJ', 'Customer_City_MIRYALAGUDA', 'Customer_City_MIRZAPUR', 'Customer_City_MITHAPUR', 'Customer_City_MODASA', 'Customer_City_MODINAGAR', 'Customer_City_MOGA', 'Customer_City_MOHALI', 'Customer_City_MOHLA', 'Customer_City_MOHOL', 'Customer_City_MOHPA', 'Customer_City_MORADABAD', 'Customer_City_MORBI', 'Customer_City_MORENA', 'Customer_City_MORMUGAO', 'Customer_City_MORSHI', 'Customer_City_MOTH', 'Customer_City_MOTIHARI', 'Customer_City_MOTIPUR', 'Customer_City_MUKERIAN', 'Customer_City_MUKHED', 'Customer_City_MUKTSAR', 'Customer_City_MUKUNDAPURAM', 'Customer_City_MUL', 'Customer_City_MULBAGAL', 'Customer_City_MUMBAI', 'Customer_City_MUNDGOD', 'Customer_City_MUNDRA', 'Customer_City_MUNGAOLI', 'Customer_City_MUNGER', 'Customer_City_MURBAD', 'Customer_City_MURLIGANJ', 'Customer_City_MURUD', 'Customer_City_MUSAFIRKHANA', 'Customer_City_MUVATTUPUZHA', 'Customer_City_MUZAFFARNAGAR', 'Customer_City_MUZAFFARPUR', 'Customer_City_MYDUKUR', 'Customer_City_MYSORE', 'Customer_City_Machavaram', 'Customer_City_Malhargarh', 'Customer_City_Mandsaur', 'Customer_City_Medikonduru', 'Customer_City_Murshidabad', 'Customer_City_NABADWIP', 'Customer_City_NABAGRAM', 'Customer_City_NABARANGPUR', 'Customer_City_NABINAGAR', 'Customer_City_NADAUN', 'Customer_City_NADIA', 'Customer_City_NADIAD', 'Customer_City_NAGAMANGALA', 'Customer_City_NAGAON', 'Customer_City_NAGAPATTINAM', 'Customer_City_NAGARKURNOOL', 'Customer_City_NAGAUR', 'Customer_City_NAGDA', 'Customer_City_NAGERCOIL', 'Customer_City_NAGPUR', 'Customer_City_NAHAN', 'Customer_City_NAHARLAGUN', 'Customer_City_NAIHATI', 'Customer_City_NAINITAL', 'Customer_City_NAJIBABAD', 'Customer_City_NAKUR', 'Customer_City_NALAGARH', 'Customer_City_NALANDA', 'Customer_City_NALBARI', 'Customer_City_NALGONDA', 'Customer_City_NALIKUL', 'Customer_City_NALLASOPARA', 'Customer_City_NAMAKKAL', 'Customer_City_NAMRUP', 'Customer_City_NANAUTA', 'Customer_City_NANDAKUMAR', 'Customer_City_NANDED', 'Customer_City_NANDURA', 'Customer_City_NANDURBAR', 'Customer_City_NANDYAL', 'Customer_City_NANGAL', 'Customer_City_NANPARA', 'Customer_City_NARAINGARH', 'Customer_City_NARASANNAPETA', 'Customer_City_NARASARAOPET', 'Customer_City_NARASINGHPUR', 'Customer_City_NARAULI', 'Customer_City_NARAYANKHED', 'Customer_City_NARAYANPUR', 'Customer_City_NARENDRA NAGAR', 'Customer_City_NARKATIAGANJ', 'Customer_City_NARNAUL', 'Customer_City_NARNAUND', 'Customer_City_NARSAPUR', 'Customer_City_NARSINGHGARH', 'Customer_City_NARSINGHPUR', 'Customer_City_NARWANA', 'Customer_City_NASHIK', 'Customer_City_NASIRABAD', 'Customer_City_NATIBPUR', 'Customer_City_NAUPADA', 'Customer_City_NAVALGUND', 'Customer_City_NAVI MUMBAI', 'Customer_City_NAVSARI', 'Customer_City_NAWABGANJ', 'Customer_City_NAWADA', 'Customer_City_NAWALGARH', 'Customer_City_NAWANSHAHAR', 'Customer_City_NAYAGARH', 'Customer_City_NEEMRANA', 'Customer_City_NEEMUCH', 'Customer_City_NELLORE', 'Customer_City_NEPANAGAR', 'Customer_City_NERAL', 'Customer_City_NEW DELHI', 'Customer_City_NEYVELI', 'Customer_City_NEYYATTINKARA', 'Customer_City_NICHLAUL', 'Customer_City_NILOKHERI', 'Customer_City_NIMBAHERA', 'Customer_City_NIPHAD', 'Customer_City_NIRJULI', 'Customer_City_NIRMAL', 'Customer_City_NIZAMABAD', 'Customer_City_NOAMUNDI', 'Customer_City_NOIDA', 'Customer_City_NOKHA', 'Customer_City_NONGPOH', 'Customer_City_NORTH 24 PARGANAS', 'Customer_City_NORTH GUWAHATI', 'Customer_City_NORTH LAKHIMPUR', 'Customer_City_NUH', 'Customer_City_NURPUR', 'Customer_City_NUZVID', 'Customer_City_ODDANCHATRAM', 'Customer_City_OLPAD', 'Customer_City_ONGOLE', 'Customer_City_OOTY', 'Customer_City_ORAI', 'Customer_City_ORAS', 'Customer_City_OSMANABAD', 'Customer_City_OTTAPALAM', 'Customer_City_PACHORA', 'Customer_City_PACHORE', 'Customer_City_PADAGHA', 'Customer_City_PADRA', 'Customer_City_PADRAUNA', 'Customer_City_PAITHAN', 'Customer_City_PAKAUR', 'Customer_City_PALA', 'Customer_City_PALAKKAD', 'Customer_City_PALAKOL', 'Customer_City_PALAKONDA', 'Customer_City_PALAMANER', 'Customer_City_PALAMAU', 'Customer_City_PALAMPUR', 'Customer_City_PALAMU', 'Customer_City_PALANPUR', 'Customer_City_PALGHAR', 'Customer_City_PALGHAT', 'Customer_City_PALI', 'Customer_City_PALLADAM', 'Customer_City_PALWAL', 'Customer_City_PANAGARH', 'Customer_City_PANCHKULA', 'Customer_City_PANDHARPUR', 'Customer_City_PANDUA', 'Customer_City_PANHALA', 'Customer_City_PANIKOII', 'Customer_City_PANIPAT', 'Customer_City_PANJIM', 'Customer_City_PANNA', 'Customer_City_PANSKURA', 'Customer_City_PANVEL', 'Customer_City_PAONTA SAHIB', 'Customer_City_PARADIP', 'Customer_City_PARALAKHEMUNDI', 'Customer_City_PARATWADA', 'Customer_City_PARBHANI', 'Customer_City_PARLAKHEMUNDI', 'Customer_City_PAROLA', 'Customer_City_PARWANOO', 'Customer_City_PASCHIMI SINGHBHUM', 'Customer_City_PASIGHAT', 'Customer_City_PATAN', 'Customer_City_PATANCHERU', 'Customer_City_PATAUDI', 'Customer_City_PATHANAMTHITTA', 'Customer_City_PATHANAPURAM', 'Customer_City_PATHANKOT', 'Customer_City_PATHAPATNAM', 'Customer_City_PATHARDI', 'Customer_City_PATHARIA', 'Customer_City_PATHRI', 'Customer_City_PATIALA', 'Customer_City_PATNA', 'Customer_City_PATNA SADAR', 'Customer_City_PATNAGARH', 'Customer_City_PATRATU', 'Customer_City_PATTAMUNDAI', 'Customer_City_PATTAN', 'Customer_City_PATTI', 'Customer_City_PATTIKONDA', 'Customer_City_PAURI', 'Customer_City_PAYAL', 'Customer_City_PEDANA', 'Customer_City_PEDAPUDI', 'Customer_City_PEHOWA', 'Customer_City_PEN', 'Customer_City_PENUGONDA', 'Customer_City_PERNAMBUT', 'Customer_City_PERNEM', 'Customer_City_PERUMBAVOOR', 'Customer_City_PERUNDURAI', 'Customer_City_PETLAD', 'Customer_City_PHAGWARA', 'Customer_City_PHALODI', 'Customer_City_PHALTAN', 'Customer_City_PHILLAUR', 'Customer_City_PHULBANI', 'Customer_City_PHULPUR', 'Customer_City_PHUSRO', 'Customer_City_PICHHORE', 'Customer_City_PIDUGURALLA', 'Customer_City_PILANI', 'Customer_City_PILIBHIT', 'Customer_City_PINAHAT', 'Customer_City_PINDWARA', 'Customer_City_PINJORE', 'Customer_City_PIPALKOTI', 'Customer_City_PIPARIYA', 'Customer_City_PIRU', 'Customer_City_PITHORAGARH', 'Customer_City_PODILI', 'Customer_City_POKARAN', 'Customer_City_PONDA', 'Customer_City_PONDICHERRY', 'Customer_City_PONNERI', 'Customer_City_PONNUR', 'Customer_City_POONCH', 'Customer_City_PORAIYAHAT', 'Customer_City_PORBANDAR', 'Customer_City_PORSA', 'Customer_City_PORT BLAIR', 'Customer_City_PORVORIM', 'Customer_City_PRAKASAM', 'Customer_City_PRATAPGARH', 'Customer_City_PRATAPNAGAR', 'Customer_City_PRODDATUR', 'Customer_City_PULPALLY', 'Customer_City_PULWANA', 'Customer_City_PUNE', 'Customer_City_PURI', 'Customer_City_PURNIA', 'Customer_City_PURULIA', 'Customer_City_PURULIYA', 'Customer_City_PUSAD', 'Customer_City_PUTTUR', 'Customer_City_PUVALUR', 'Customer_City_Paraisa', 'Customer_City_Pawai', 'Customer_City_QADIAN', 'Customer_City_QUILANDY', 'Customer_City_RAE BARELI', 'Customer_City_RAGHOGARH', 'Customer_City_RAGHUNATHGANJ', 'Customer_City_RAGHUNATHPUR', 'Customer_City_RAHATA', 'Customer_City_RAHIMATPUR', 'Customer_City_RAICHUR', 'Customer_City_RAIGANJ', 'Customer_City_RAIGARH', 'Customer_City_RAIGARH(MH)', 'Customer_City_RAIPUR', 'Customer_City_RAIPUR RANI', 'Customer_City_RAISEN', 'Customer_City_RAISINGHNAGAR', 'Customer_City_RAJAHMUNDRY', 'Customer_City_RAJAKHERA', 'Customer_City_RAJALDESAR', 'Customer_City_RAJAM', 'Customer_City_RAJAPUR', 'Customer_City_RAJGANGPUR', 'Customer_City_RAJGARH', 'Customer_City_RAJGARH(BIA)', 'Customer_City_RAJGIR', 'Customer_City_RAJKOT', 'Customer_City_RAJMAHAL', 'Customer_City_RAJNANDGAON', 'Customer_City_RAJOURI', 'Customer_City_RAJPIPLA', 'Customer_City_RAJPUR', 'Customer_City_RAJSAMAND', 'Customer_City_RAJULA', 'Customer_City_RAMAGUNDAM', 'Customer_City_RAMANATHAPURAM', 'Customer_City_RAMGARH', 'Customer_City_RAMNAGAR', 'Customer_City_RAMPUR', 'Customer_City_RAMPURHAT', 'Customer_City_RANAGHAT', 'Customer_City_RANBIRSINGHPORA', 'Customer_City_RANCHI', 'Customer_City_RANEBENNUR', 'Customer_City_RANGA REDDY', 'Customer_City_RANGAPARA', 'Customer_City_RANGAREDDY', 'Customer_City_RANGIA', 'Customer_City_RANGPO', 'Customer_City_RANIKHET', 'Customer_City_RANIP', 'Customer_City_RANIPET', 'Customer_City_RASIPURAM', 'Customer_City_RASULABAD', 'Customer_City_RATANGARH', 'Customer_City_RATIA', 'Customer_City_RATLAM', 'Customer_City_RATNAGIRI', 'Customer_City_RAVANGLA', 'Customer_City_RAVER', 'Customer_City_RAVULAPALEM', 'Customer_City_RAWATBHATA', 'Customer_City_RAXAUL', 'Customer_City_RAYACHOTY', 'Customer_City_RAYAGADA', 'Customer_City_RAZOLE', 'Customer_City_RBL', 'Customer_City_REASI', 'Customer_City_RECKONG PEO', 'Customer_City_REOTI', 'Customer_City_REWA', 'Customer_City_REWARI', 'Customer_City_REWARI STN', 'Customer_City_RISHIKESH', 'Customer_City_RISHRA', 'Customer_City_RISOD', 'Customer_City_ROBERTSGANJ', 'Customer_City_ROHA', 'Customer_City_ROHRU', 'Customer_City_ROHTAK', 'Customer_City_RON', 'Customer_City_ROORKEE', 'Customer_City_ROURKELA', 'Customer_City_RUDRA PRAYAG', 'Customer_City_RUDRAPUR', 'Customer_City_RUPNAGAR', 'Customer_City_RURA', 'Customer_City_SADABAD', 'Customer_City_SADASIVPET', 'Customer_City_SADAT', 'Customer_City_SADULPUR', 'Customer_City_SAFIDON', 'Customer_City_SAGAR', 'Customer_City_SAHARANPUR', 'Customer_City_SAHARSA', 'Customer_City_SAHAWAR', 'Customer_City_SAHEBGANJ', 'Customer_City_SAHIBGANJ', 'Customer_City_SAIDPUR', 'Customer_City_SAILU', 'Customer_City_SAINTHIA', 'Customer_City_SAKTI', 'Customer_City_SALEM', 'Customer_City_SALEMPUR', 'Customer_City_SALIPUR', 'Customer_City_SALON', 'Customer_City_SALUMBAR', 'Customer_City_SAMANA', 'Customer_City_SAMASTIPUR', 'Customer_City_SAMBA', 'Customer_City_SAMBALPUR', 'Customer_City_SAMBHAL', 'Customer_City_SAMTHAR', 'Customer_City_SANAND', 'Customer_City_SANASWADI', 'Customer_City_SANCHORE', 'Customer_City_SANDI', 'Customer_City_SANDILA', 'Customer_City_SANGAMNER', 'Customer_City_SANGANER', 'Customer_City_SANGAREDDY', 'Customer_City_SANGARIA', 'Customer_City_SANGAT', 'Customer_City_SANGLI', 'Customer_City_SANGOLA', 'Customer_City_SANGRUR', 'Customer_City_SANJAN', 'Customer_City_SANKRAIL', 'Customer_City_SANQUELIM', 'Customer_City_SANT RAVIDAS NAGAR', 'Customer_City_SANTINIKETAN', 'Customer_City_SANTRAMPUR', 'Customer_City_SARAN', 'Customer_City_SARANGARH', 'Customer_City_SARDARPUR', 'Customer_City_SARDARSHAHAR', 'Customer_City_SARDULGARH', 'Customer_City_SARKAGHAT', 'Customer_City_SARTHEBARI', 'Customer_City_SASARA', 'Customer_City_SASARAM', 'Customer_City_SATANA', 'Customer_City_SATARA', 'Customer_City_SATHYAMANGALAM', 'Customer_City_SATNA', 'Customer_City_SATRIKH', 'Customer_City_SATTENAPALLI', 'Customer_City_SATTUR', 'Customer_City_SAUSAR', 'Customer_City_SAWAI MADHOPUR', 'Customer_City_SAWANTWADI', 'Customer_City_SAWER', 'Customer_City_SAYAN', 'Customer_City_SEHORE', 'Customer_City_SENDHWA', 'Customer_City_SEONI', 'Customer_City_SEPPA', 'Customer_City_SERAMPORE', 'Customer_City_SHADNAGAR', 'Customer_City_SHAHABAD', 'Customer_City_SHAHADA', 'Customer_City_SHAHAPUR', 'Customer_City_SHAHDOL', 'Customer_City_SHAHGANJ', 'Customer_City_SHAHI', 'Customer_City_SHAHJAHANPUR', 'Customer_City_SHAHKOT', 'Customer_City_SHAHPUR', 'Customer_City_SHAJAPUR', 'Customer_City_SHAKTI NAGAR', 'Customer_City_SHAMLI', 'Customer_City_SHEIKHPURA', 'Customer_City_SHEOHAR', 'Customer_City_SHEOPUR', 'Customer_City_SHEORAPHULI', 'Customer_City_SHERGARH', 'Customer_City_SHERKOT', 'Customer_City_SHILLONG', 'Customer_City_SHIMLA', 'Customer_City_SHIMOGA', 'Customer_City_SHIRPUR', 'Customer_City_SHIRUR', 'Customer_City_SHIRWAL', 'Customer_City_SHIVPURI', 'Customer_City_SHOLAPUR', 'Customer_City_SHOLINGHUR', 'Customer_City_SHOPIAN', 'Customer_City_SHORAPUR', 'Customer_City_SHRIGONDA', 'Customer_City_SHRIRAMPUR', 'Customer_City_SHYAMNAGAR', 'Customer_City_SIBSAGAR', 'Customer_City_SIDDHARTHNAGAR', 'Customer_City_SIDDIPET', 'Customer_City_SIDHI', 'Customer_City_SIDHPUR', 'Customer_City_SIHOR', 'Customer_City_SIHORA', 'Customer_City_SIKANDERPUR', 'Customer_City_SIKANDRA', 'Customer_City_SIKANDRABAD', 'Customer_City_SIKAR', 'Customer_City_SILAO', 'Customer_City_SILCHAR', 'Customer_City_SILIGURI', 'Customer_City_SILLOD', 'Customer_City_SILVASSA', 'Customer_City_SIMGA', 'Customer_City_SINDHANUR', 'Customer_City_SINDRI', 'Customer_City_SINGTAM', 'Customer_City_SINGUR', 'Customer_City_SINI', 'Customer_City_SINNAR', 'Customer_City_SIRCILLA', 'Customer_City_SIROHI', 'Customer_City_SIRPUR KAGHAZNAGAR', 'Customer_City_SIRSA', 'Customer_City_SIRSI', 'Customer_City_SIRUMUGAI', 'Customer_City_SITAMARHI', 'Customer_City_SITAPUR', 'Customer_City_SITARGANJ', 'Customer_City_SIVAGANGA', 'Customer_City_SIWAN', 'Customer_City_SIWANA', 'Customer_City_SIWANI', 'Customer_City_SOHAGPUR', 'Customer_City_SOHNA', 'Customer_City_SOJAT CITY', 'Customer_City_SOLAN', 'Customer_City_SOLAPUR', 'Customer_City_SOMPETA', 'Customer_City_SONBHADRA', 'Customer_City_SONEPAT', 'Customer_City_SONEPUR', 'Customer_City_SONGADH', 'Customer_City_SONIPAT', 'Customer_City_SOPORE', 'Customer_City_SOUTH 24 PARGANAS', 'Customer_City_SOUTH GOA', 'Customer_City_SRI DUNGARGARH', 'Customer_City_SRI GANGANAGAR', 'Customer_City_SRI KARANPUR', 'Customer_City_SRIKAKULAM', 'Customer_City_SRINAGAR', 'Customer_City_SRINIVASPUR', 'Customer_City_SRIPERUMBUDUR', 'Customer_City_SRIPERUMPUDUR', 'Customer_City_SRIRANGAPATNA', 'Customer_City_SRIVAIKUNTAM', 'Customer_City_SUAR', 'Customer_City_SUJANGARH', 'Customer_City_SUKET', 'Customer_City_SULLIA', 'Customer_City_SULTANPUR', 'Customer_City_SULTHAN BATHERY', 'Customer_City_SUMBAL', 'Customer_City_SUMERPUR', 'Customer_City_SUNABEDA', 'Customer_City_SUNAM', 'Customer_City_SUNDARGARH', 'Customer_City_SUNDERBANI', 'Customer_City_SUNDERNAGAR', 'Customer_City_SUPA', 'Customer_City_SUPAUL', 'Customer_City_SURAJGARH', 'Customer_City_SURAJPUR', 'Customer_City_SURAT', 'Customer_City_SURATGARH', 'Customer_City_SURENDRANAGAR', 'Customer_City_SURGUJA', 'Customer_City_SURI', 'Customer_City_SURIYAWAN', 'Customer_City_SURYAPET', 'Customer_City_SWAIMADHOPUR', 'Customer_City_Sadar', 'Customer_City_Sakoli', 'Customer_City_Singrauli', 'Customer_City_Singrauli Colliery', 'Customer_City_Sitamau', 'Customer_City_TADEPALLIGUDEM', 'Customer_City_TADIPATRI', 'Customer_City_TAKHATPUR', 'Customer_City_TAL', 'Customer_City_TALAJA', 'Customer_City_TALCHER', 'Customer_City_TALIPARAMBA', 'Customer_City_TAMBARAM', 'Customer_City_TANDA', 'Customer_City_TANUKU', 'Customer_City_TAPI', 'Customer_City_TARAKESWAR', 'Customer_City_TARANAGAR', 'Customer_City_TARAPUR', 'Customer_City_TARIKERE', 'Customer_City_TEKARI', 'Customer_City_TENSA', 'Customer_City_TEZPUR', 'Customer_City_THAKURDWARA', 'Customer_City_THALAPILLY', 'Customer_City_THALASSERY', 'Customer_City_THANE', 'Customer_City_THANGADH', 'Customer_City_THANJAVUR', 'Customer_City_THARAD', 'Customer_City_THARANGAMBADI', 'Customer_City_THE DANGS', 'Customer_City_THEOG', 'Customer_City_THIRTHAHALLI', 'Customer_City_THODUPUZHA', 'Customer_City_THRISSUR', 'Customer_City_TIJARA', 'Customer_City_TIKAMGARH', 'Customer_City_TINDIVANAM', 'Customer_City_TINDWARI', 'Customer_City_TINSUKIA', 'Customer_City_TIRORA', 'Customer_City_TIRUNELVELI', 'Customer_City_TIRUPATI', 'Customer_City_TIRUPUR', 'Customer_City_TIRUTTANI', 'Customer_City_TIRUVALLA', 'Customer_City_TIRUVALLUR', 'Customer_City_TIRUVANNAMALAI', 'Customer_City_TODABHIM', 'Customer_City_TONK', 'Customer_City_TRAL', 'Customer_City_TRIBENI', 'Customer_City_TRICHY', 'Customer_City_TRIVANDRUM', 'Customer_City_TULSIPUR', 'Customer_City_TUMKUR', 'Customer_City_TUMSAR', 'Customer_City_TUNDLA', 'Customer_City_TUNI', 'Customer_City_TURA', 'Customer_City_TUTICORIN', 'Customer_City_Tiruppattur', 'Customer_City_Titilagarh', 'Customer_City_UCHANA', 'Customer_City_UDAIPUR', 'Customer_City_UDAIPURWATI', 'Customer_City_UDALA', 'Customer_City_UDALGURI', 'Customer_City_UDHAM SINGH NAGAR', 'Customer_City_UDHAMPUR', 'Customer_City_UDUMALPET', 'Customer_City_UDUMBANCHOLA', 'Customer_City_UDUPI', 'Customer_City_UJHANI', 'Customer_City_UJJAIN', 'Customer_City_ULHASNAGAR', 'Customer_City_ULUBERIA', 'Customer_City_UMARIA', 'Customer_City_UMBERGAON', 'Customer_City_UMRI', 'Customer_City_UNA', 'Customer_City_UNIARA', 'Customer_City_UNJHA', 'Customer_City_UNNAO', 'Customer_City_URAN', 'Customer_City_URAN ISLAMPUR', 'Customer_City_UTRAULA', 'Customer_City_UTTARA KANNADA', 'Customer_City_UTTARKASHI', 'Customer_City_UTTARPARA', 'Customer_City_Umerkhed', 'Customer_City_Unknown', 'Customer_City_VADAKARA', 'Customer_City_VADODARA', 'Customer_City_VADUJ', 'Customer_City_VAIJAPUR', 'Customer_City_VAIKOM', 'Customer_City_VAISHALI', 'Customer_City_VALPOI', 'Customer_City_VALSAD', 'Customer_City_VANIYAMBADI', 'Customer_City_VAPI', 'Customer_City_VARANASI', 'Customer_City_VASAI', 'Customer_City_VASCO', 'Customer_City_VEDASANDUR', 'Customer_City_VEJALPUR', 'Customer_City_VELLORE', 'Customer_City_VERAVAL', 'Customer_City_VIDISHA', 'Customer_City_VIJAYAWADA', 'Customer_City_VILLUPURAM', 'Customer_City_VIRAMGAM', 'Customer_City_VIRAR', 'Customer_City_VIRUDHUNAGAR', 'Customer_City_VISAKHAPATNAM', 'Customer_City_VISHAKHAPATNAM', 'Customer_City_VISNAGAR', 'Customer_City_VIZIANAGARAM', 'Customer_City_VUYYURU', 'Customer_City_Vikasnagar', 'Customer_City_Vinukonda', 'Customer_City_W26', 'Customer_City_WADI', 'Customer_City_WAI', 'Customer_City_WANAPARTHY', 'Customer_City_WANI', 'Customer_City_WANKANER', 'Customer_City_WARANGAL', 'Customer_City_WARDHA', 'Customer_City_WARISALIGANJ', 'Customer_City_WARORA', 'Customer_City_WARUD', 'Customer_City_WASHIM', 'Customer_City_WAZIRGANJ', 'Customer_City_WEIR', 'Customer_City_WELLINGTON', 'Customer_City_WEST DINAJPUR', 'Customer_City_WEST GODAVARI', 'Customer_City_Wada', 'Customer_City_YAMUNANAGAR', 'Customer_City_YAVATMAL', 'Customer_City_YEDITHA', 'Customer_City_YELESWARAM', 'Customer_City_YEOTAMAL', 'Customer_City_YERRAGUNTLA', 'Customer_City_Yeola', 'Customer_City_ZAHEERABAD', 'Customer_City_ZAMANIA', 'Customer_City_ZIRA', 'Customer_City_ZIRAKPUR', 'Customer_City_ZUARINAGAR', 'Product_category_Books & General merchandise', 'Product_category_Electronics', 'Product_category_Furniture', 'Product_category_GiftCard', 'Product_category_Home', 'Product_category_Home Appliences', 'Product_category_LifeStyle', 'Product_category_Mobile', 'Product_category_Unknown']\n"
     ]
    }
   ],
   "source": [
    "pd.set_option('display.max_columns', 2000)\n",
    "print(x_train.columns)\n",
    "print(x_train.columns.to_list())\n"
   ]
  },
  {
   "cell_type": "code",
   "execution_count": 34,
   "id": "3b41748d",
   "metadata": {},
   "outputs": [
    {
     "data": {
      "text/plain": [
       "5056     0.324841\n",
       "43070   -1.849546\n",
       "70807    0.324841\n",
       "24015   -0.399955\n",
       "20160    0.324841\n",
       "           ...   \n",
       "6265    -0.399955\n",
       "54886    1.049636\n",
       "76820   -1.124750\n",
       "860      0.324841\n",
       "15795    1.049636\n",
       "Name: Tenure Bucket, Length: 68725, dtype: float64"
      ]
     },
     "execution_count": 34,
     "metadata": {},
     "output_type": "execute_result"
    }
   ],
   "source": [
    "x_train['Tenure Bucket']"
   ]
  },
  {
   "cell_type": "code",
   "execution_count": 35,
   "id": "c69519ca",
   "metadata": {},
   "outputs": [],
   "source": [
    "x_train_tensor = torch.tensor(x_train.values, dtype=torch.float64)\n",
    "y_train_tensor = torch.tensor(y_train.values, dtype=torch.float64)\n",
    "x_test_tensor = torch.tensor(x_test.values, dtype=torch.float64)\n",
    "y_test_tensor = torch.tensor(y_test.values, dtype=torch.float64)"
   ]
  },
  {
   "cell_type": "code",
   "execution_count": 36,
   "id": "eca44260",
   "metadata": {},
   "outputs": [
    {
     "name": "stderr",
     "output_type": "stream",
     "text": [
      "C:\\Users\\mrinm\\AppData\\Local\\Temp\\ipykernel_10328\\2575457563.py:6: UserWarning: To copy construct from a tensor, it is recommended to use sourceTensor.detach().clone() or sourceTensor.detach().clone().requires_grad_(True), rather than torch.tensor(sourceTensor).\n",
      "  self.features = torch.tensor(features, dtype=torch.float32)\n",
      "C:\\Users\\mrinm\\AppData\\Local\\Temp\\ipykernel_10328\\2575457563.py:7: UserWarning: To copy construct from a tensor, it is recommended to use sourceTensor.detach().clone() or sourceTensor.detach().clone().requires_grad_(True), rather than torch.tensor(sourceTensor).\n",
      "  self.labels = torch.tensor(labels, dtype=torch.long)\n"
     ]
    }
   ],
   "source": [
    "train_dataset = CustomDataset(x_train_tensor,y_train_tensor)\n",
    "test_dataset = CustomDataset(x_test_tensor,y_test_tensor)"
   ]
  },
  {
   "cell_type": "code",
   "execution_count": 37,
   "id": "842488ac",
   "metadata": {},
   "outputs": [
    {
     "name": "stdout",
     "output_type": "stream",
     "text": [
      "68725\n",
      "17182\n",
      "(tensor([-0.0375, -0.0076,  0.3248,  ...,  0.0000,  0.0000,  0.0000]), tensor(4))\n"
     ]
    }
   ],
   "source": [
    "print(len(train_dataset))\n",
    "print(len(test_dataset))\n",
    "\n",
    "print(train_dataset[0])\n"
   ]
  },
  {
   "cell_type": "code",
   "execution_count": 38,
   "id": "7c52958a",
   "metadata": {},
   "outputs": [],
   "source": [
    "# Now we have to create the data loaders \n",
    "train_loader = DataLoader(train_dataset,shuffle=True,pin_memory=True,batch_size = 32)\n",
    "test_loader = DataLoader(test_dataset,shuffle=False,pin_memory=True,batch_size = 32)"
   ]
  },
  {
   "cell_type": "code",
   "execution_count": 39,
   "id": "3cbc993d",
   "metadata": {},
   "outputs": [],
   "source": [
    "import torch.nn as nn"
   ]
  },
  {
   "cell_type": "code",
   "execution_count": 40,
   "id": "70b1e2c2",
   "metadata": {},
   "outputs": [],
   "source": [
    "# Creaing the model class\n",
    "\n",
    "class MyNN(nn.Module):\n",
    "\n",
    "    def __init__(self,num_features):\n",
    "        \n",
    "        super().__init__()\n",
    "        self.model = nn.Sequential(\n",
    "            nn.Linear(num_features,128),\n",
    "            nn.BatchNorm1d(128),\n",
    "            nn.ReLU(),\n",
    "            nn.Dropout(0.3),\n",
    "            nn.Linear(128, 5)  # output Layer and the o/p is 5 scores \n",
    "        )\n",
    "\n",
    "    def forward(self,x):\n",
    "        return self.model(x)"
   ]
  },
  {
   "cell_type": "code",
   "execution_count": 41,
   "id": "68188feb",
   "metadata": {},
   "outputs": [],
   "source": [
    "# set learning rate and epochs\n",
    "epochs = 100\n",
    "learning_rate = 0.1"
   ]
  },
  {
   "cell_type": "code",
   "execution_count": 42,
   "id": "924fc8cd",
   "metadata": {},
   "outputs": [],
   "source": [
    "# Instantiate the model\n",
    "model = MyNN(x_train_tensor.shape[1])\n",
    "\n",
    "# loss funtion\n",
    "criterion = nn.CrossEntropyLoss()\n",
    "\n",
    "# Optimizer\n",
    "optimizer = optim.SGD(model.parameters(), lr = learning_rate)"
   ]
  },
  {
   "cell_type": "code",
   "execution_count": 43,
   "id": "9c0fbb73",
   "metadata": {},
   "outputs": [
    {
     "name": "stderr",
     "output_type": "stream",
     "text": [
      "c:\\Users\\mrinm\\OneDrive\\Desktop\\Folder Head\\ML Internship Projects\\DeepCSAT-Ecommerce-Customer-Satisfaction-Score-Prediction\\venv\\Lib\\site-packages\\torch\\utils\\data\\dataloader.py:668: UserWarning: 'pin_memory' argument is set as true but no accelerator is found, then device pinned memory won't be used.\n",
      "  warnings.warn(warn_msg)\n"
     ]
    },
    {
     "name": "stdout",
     "output_type": "stream",
     "text": [
      "Epoch: 1 , Loss: 0.965063214302063\n",
      "Epoch: 2 , Loss: 0.9464847445487976\n",
      "Epoch: 3 , Loss: 0.9391645193099976\n",
      "Epoch: 4 , Loss: 0.9348368048667908\n",
      "Epoch: 5 , Loss: 0.931225597858429\n",
      "Epoch: 6 , Loss: 0.9298503994941711\n",
      "Epoch: 7 , Loss: 0.9280216693878174\n",
      "Epoch: 8 , Loss: 0.926697850227356\n",
      "Epoch: 9 , Loss: 0.9264435172080994\n",
      "Epoch: 10 , Loss: 0.9255438446998596\n",
      "Epoch: 11 , Loss: 0.9244574904441833\n",
      "Epoch: 12 , Loss: 0.9241234064102173\n",
      "Epoch: 13 , Loss: 0.9236741662025452\n",
      "Epoch: 14 , Loss: 0.9232613444328308\n",
      "Epoch: 15 , Loss: 0.9232032299041748\n",
      "Epoch: 16 , Loss: 0.9226348400115967\n",
      "Epoch: 17 , Loss: 0.9212387800216675\n",
      "Epoch: 18 , Loss: 0.921997606754303\n",
      "Epoch: 19 , Loss: 0.9216817617416382\n",
      "Epoch: 20 , Loss: 0.9202866554260254\n",
      "Epoch: 21 , Loss: 0.9204409122467041\n",
      "Epoch: 22 , Loss: 0.920403242111206\n",
      "Epoch: 23 , Loss: 0.9197388887405396\n",
      "Epoch: 24 , Loss: 0.9194744229316711\n",
      "Epoch: 25 , Loss: 0.9187781810760498\n",
      "Epoch: 26 , Loss: 0.9193202257156372\n",
      "Epoch: 27 , Loss: 0.9188897609710693\n",
      "Epoch: 28 , Loss: 0.9176526665687561\n",
      "Epoch: 29 , Loss: 0.9178348183631897\n",
      "Epoch: 30 , Loss: 0.9173306822776794\n",
      "Epoch: 31 , Loss: 0.9176123142242432\n",
      "Epoch: 32 , Loss: 0.9170369505882263\n",
      "Epoch: 33 , Loss: 0.9167501330375671\n",
      "Epoch: 34 , Loss: 0.916866660118103\n",
      "Epoch: 35 , Loss: 0.9163115620613098\n",
      "Epoch: 36 , Loss: 0.9159342646598816\n",
      "Epoch: 37 , Loss: 0.9163709282875061\n",
      "Epoch: 38 , Loss: 0.9169961810112\n",
      "Epoch: 39 , Loss: 0.9163793921470642\n",
      "Epoch: 40 , Loss: 0.9153437614440918\n",
      "Epoch: 41 , Loss: 0.9148766994476318\n",
      "Epoch: 42 , Loss: 0.9153085947036743\n",
      "Epoch: 43 , Loss: 0.9144756197929382\n",
      "Epoch: 44 , Loss: 0.9144116044044495\n",
      "Epoch: 45 , Loss: 0.9138064980506897\n",
      "Epoch: 46 , Loss: 0.9130839109420776\n",
      "Epoch: 47 , Loss: 0.913020670413971\n",
      "Epoch: 48 , Loss: 0.9139692783355713\n",
      "Epoch: 49 , Loss: 0.9132941365242004\n",
      "Epoch: 50 , Loss: 0.9127952456474304\n",
      "Epoch: 51 , Loss: 0.9118225574493408\n",
      "Epoch: 52 , Loss: 0.9112135767936707\n",
      "Epoch: 53 , Loss: 0.911696195602417\n",
      "Epoch: 54 , Loss: 0.911263644695282\n",
      "Epoch: 55 , Loss: 0.9112864136695862\n",
      "Epoch: 56 , Loss: 0.9113355875015259\n",
      "Epoch: 57 , Loss: 0.910536527633667\n",
      "Epoch: 58 , Loss: 0.9105486869812012\n",
      "Epoch: 59 , Loss: 0.9099754691123962\n",
      "Epoch: 60 , Loss: 0.909749448299408\n",
      "Epoch: 61 , Loss: 0.9097550511360168\n",
      "Epoch: 62 , Loss: 0.9085714817047119\n",
      "Epoch: 63 , Loss: 0.9100276231765747\n",
      "Epoch: 64 , Loss: 0.9090374112129211\n",
      "Epoch: 65 , Loss: 0.9085260629653931\n",
      "Epoch: 66 , Loss: 0.9093826413154602\n",
      "Epoch: 67 , Loss: 0.9079214334487915\n",
      "Epoch: 68 , Loss: 0.9074786901473999\n",
      "Epoch: 69 , Loss: 0.9075741767883301\n",
      "Epoch: 70 , Loss: 0.907172441482544\n",
      "Epoch: 71 , Loss: 0.9070863127708435\n",
      "Epoch: 72 , Loss: 0.9072913527488708\n",
      "Epoch: 73 , Loss: 0.90590900182724\n",
      "Epoch: 74 , Loss: 0.9056756496429443\n",
      "Epoch: 75 , Loss: 0.9067056775093079\n",
      "Epoch: 76 , Loss: 0.9065234661102295\n",
      "Epoch: 77 , Loss: 0.9053060412406921\n",
      "Epoch: 78 , Loss: 0.9042196273803711\n",
      "Epoch: 79 , Loss: 0.904845654964447\n",
      "Epoch: 80 , Loss: 0.904280960559845\n",
      "Epoch: 81 , Loss: 0.9047520756721497\n",
      "Epoch: 82 , Loss: 0.9035370349884033\n",
      "Epoch: 83 , Loss: 0.9023052453994751\n",
      "Epoch: 84 , Loss: 0.902533233165741\n",
      "Epoch: 85 , Loss: 0.9028280973434448\n",
      "Epoch: 86 , Loss: 0.9027479887008667\n",
      "Epoch: 87 , Loss: 0.9029709696769714\n",
      "Epoch: 88 , Loss: 0.9012255668640137\n",
      "Epoch: 89 , Loss: 0.901641309261322\n",
      "Epoch: 90 , Loss: 0.9007184505462646\n",
      "Epoch: 91 , Loss: 0.9008607268333435\n",
      "Epoch: 92 , Loss: 0.8999815583229065\n",
      "Epoch: 93 , Loss: 0.9004289507865906\n",
      "Epoch: 94 , Loss: 0.8997647762298584\n",
      "Epoch: 95 , Loss: 0.8986342549324036\n",
      "Epoch: 96 , Loss: 0.8995822072029114\n",
      "Epoch: 97 , Loss: 0.899059534072876\n",
      "Epoch: 98 , Loss: 0.8981347680091858\n",
      "Epoch: 99 , Loss: 0.8975843191146851\n",
      "Epoch: 100 , Loss: 0.8982557058334351\n"
     ]
    }
   ],
   "source": [
    "# Training loop (Using Mini Batch method)\n",
    "\n",
    "for epoch in range(epochs):\n",
    "\n",
    "    total_epoch_loss = 0\n",
    "\n",
    "    for batch_features, batch_labels in train_loader:\n",
    "        \n",
    "        # Forward Pass\n",
    "        y_pred = model(batch_features)  # call the forward function of MyNN class\n",
    "\n",
    "        # Calculate Loss\n",
    "        loss = criterion(y_pred,batch_labels)\n",
    "\n",
    "        # Removing the accumulated gradients and calculating the gradients\n",
    "        optimizer.zero_grad()\n",
    "        loss.backward()\n",
    "\n",
    "        # update the parameters like weights and bias\n",
    "        optimizer.step()\n",
    "\n",
    "        # calculating the total_loss in the complete epoch for every batch\n",
    "        total_epoch_loss = total_epoch_loss + loss\n",
    "\n",
    "    avg_loss = total_epoch_loss/len(train_loader)\n",
    "    print(f'Epoch: {epoch + 1} , Loss: {avg_loss}')"
   ]
  },
  {
   "cell_type": "markdown",
   "id": "8fdbd0f0",
   "metadata": {},
   "source": [
    "#### Evaluation (Finding the accuracy_score)"
   ]
  },
  {
   "cell_type": "code",
   "execution_count": 44,
   "id": "bba4aa41",
   "metadata": {},
   "outputs": [
    {
     "data": {
      "text/plain": [
       "MyNN(\n",
       "  (model): Sequential(\n",
       "    (0): Linear(in_features=1870, out_features=128, bias=True)\n",
       "    (1): BatchNorm1d(128, eps=1e-05, momentum=0.1, affine=True, track_running_stats=True)\n",
       "    (2): ReLU()\n",
       "    (3): Dropout(p=0.3, inplace=False)\n",
       "    (4): Linear(in_features=128, out_features=5, bias=True)\n",
       "  )\n",
       ")"
      ]
     },
     "execution_count": 44,
     "metadata": {},
     "output_type": "execute_result"
    }
   ],
   "source": [
    "from sklearn.metrics import accuracy_score\n",
    "\n",
    "# Setting the model on evaluation mode\n",
    "model.eval()"
   ]
  },
  {
   "cell_type": "code",
   "execution_count": 45,
   "id": "a790ce74",
   "metadata": {},
   "outputs": [
    {
     "name": "stdout",
     "output_type": "stream",
     "text": [
      "0.6950296822255849\n"
     ]
    }
   ],
   "source": [
    "actual_labels=[]\n",
    "predicted_labels=[]\n",
    "\n",
    "with torch.no_grad():\n",
    "\n",
    "    for batch_features,batch_labels in test_loader:\n",
    "\n",
    "        y_pred = model(batch_features)\n",
    "        y_pred_labels = torch.argmax(y_pred,dim=1)\n",
    "\n",
    "        predicted_labels.extend(y_pred_labels.cpu().numpy())\n",
    "        actual_labels.extend(batch_labels.cpu().numpy())\n",
    "\n",
    "    accuracy = accuracy_score(predicted_labels, actual_labels)\n",
    "    print(accuracy)\n",
    "\n"
   ]
  },
  {
   "cell_type": "code",
   "execution_count": null,
   "id": "b42922ea",
   "metadata": {},
   "outputs": [
    {
     "name": "stdout",
     "output_type": "stream",
     "text": [
      "All artifacts (model, scaler, and columns) have been saved successfully!\n",
      "You can now run 'streamlit run app.py'\n"
     ]
    }
   ],
   "source": [
    "# Saving the model, columns and scaler \n",
    "\n",
    "import joblib\n",
    "\n",
    "torch.save(model.state_dict(), 'csat_model_state.pth')\n",
    "\n",
    "joblib.dump(scaler, 'scaler.joblib')\n",
    "\n",
    "final_columns = x_train.columns.to_list()\n",
    "joblib.dump(final_columns, 'model_columns.joblib')\n",
    "\n",
    "print(\"All artifacts (model, scaler, and columns) have been saved successfully!\")\n",
    "# print(\"You can now run 'streamlit run app.py'\")"
   ]
  }
 ],
 "metadata": {
  "kernelspec": {
   "display_name": "venv",
   "language": "python",
   "name": "python3"
  },
  "language_info": {
   "codemirror_mode": {
    "name": "ipython",
    "version": 3
   },
   "file_extension": ".py",
   "mimetype": "text/x-python",
   "name": "python",
   "nbconvert_exporter": "python",
   "pygments_lexer": "ipython3",
   "version": "3.12.0"
  }
 },
 "nbformat": 4,
 "nbformat_minor": 5
}
